{
 "cells": [
  {
   "cell_type": "code",
   "execution_count": 13,
   "metadata": {
    "code_folding": [
     0
    ]
   },
   "outputs": [],
   "source": [
    "#define the colors from colorbrewer2\n",
    "orange1 = '#feedde'\n",
    "orange2 = '#fdbe85'\n",
    "orange3 = '#fd8d3c'\n",
    "orange4 = '#e6550d'\n",
    "orange5 = '#a63603'\n",
    "blue1 = '#eff3ff'\n",
    "blue2 = '#bdd7e7'\n",
    "blue3 = '#6baed6'     \n",
    "blue4 = '#3182bd'     # passenger colour\n",
    "blue5 = '#08519c'\n",
    "green1 = '#edf8e9'\n",
    "green2 = '#bae4b3'\n",
    "green3 = '#74c476'   # dev colour\n",
    "green4 = '#31a354'\n",
    "green5 = '#006d2c'\n",
    "grey1 = '#f7f7f7'\n",
    "grey2 = '#cccccc'\n",
    "grey3 = '#969696'\n",
    "grey4 = '#636363'     # neutral drift colour\n",
    "grey5 = '#252525'\n",
    "purple1 = '#f2f0f7'\n",
    "purple2 = '#cbc9e2'\n",
    "purple3 = '#9e9ac8'\n",
    "purple4 = '#756bb1'\n",
    "purple5 = '#54278f'\n",
    "red1 = '#fee5d9'\n",
    "red2 = '#fcae91'\n",
    "red3 = '#fb6a4a'\n",
    "red4 = '#de2d26'\n",
    "red5 = '#a50f15'"
   ]
  },
  {
   "cell_type": "code",
   "execution_count": 14,
   "metadata": {
    "code_folding": [
     0
    ]
   },
   "outputs": [],
   "source": [
    "# Lists of colors for plots\n",
    "c0 = (0.76, 0.76, 0.76)\n",
    "c1 = (1.00, 0.18, 0.33);\n",
    "c2 = (1.00, 0.23, 0.19);\n",
    "c3 = (1.00, 0.58, 0.00);\n",
    "c4 = (1.00, 0.80, 0.00);\n",
    "c5 = (0.30, 0.85, 0.39);\n",
    "c6 = (0.35, 0.78, 0.98);\n",
    "c7 = (0.20, 0.67, 0.86);\n",
    "c8 = (0.00, 0.48, 1.00);\n",
    "c9 = (0.35, 0.34, 0.84);\n",
    "c10 = (0.00, 0.31, 0.57);\n",
    "c11 = (0.12, 0.29, 0.69);\n",
    "c12 = (0.17, 0.17, 0.42);\n",
    "c13 = (1.00, 1.00, 1.00);\n",
    "c14 = (0.77, 0.04, 0.00);"
   ]
  },
  {
   "cell_type": "code",
   "execution_count": 15,
   "metadata": {
    "code_folding": [
     0
    ]
   },
   "outputs": [],
   "source": [
    "# imported packages\n",
    "import random\n",
    "import numpy as np\n",
    "import matplotlib\n",
    "import matplotlib.pyplot as plt\n",
    "import math\n",
    "import matplotlib.ticker as plticker\n",
    "from matplotlib.ticker import LinearLocator, FormatStrFormatter\n",
    "from matplotlib.patches import Polygon\n",
    "from matplotlib.patches import Patch\n",
    "from matplotlib.lines import Line2D\n",
    "from matplotlib import cm\n",
    "import scipy.special\n",
    "import scipy.integrate as it\n",
    "from scipy import integrate\n",
    "from scipy.interpolate import interp1d\n",
    "from scipy.stats import kde\n",
    "import copy\n",
    "import glob, os\n",
    "import re\n",
    "from sklearn import datasets, linear_model\n",
    "import pandas as pd\n",
    "from decimal import *\n",
    "from operator import itemgetter    \n",
    "from collections import OrderedDict\n",
    "import timeit\n",
    "import csv\n",
    "from scipy.integrate import simps\n",
    "import cmath\n",
    "import mpmath as mp"
   ]
  },
  {
   "cell_type": "code",
   "execution_count": 16,
   "metadata": {},
   "outputs": [
    {
     "name": "stdout",
     "output_type": "stream",
     "text": [
      "Bolton_468panel_mu 0.0021655198297872344\n",
      "Bolton_468panel_non_syn_mu 0.0015514171914893617\n"
     ]
    }
   ],
   "source": [
    "Bolton_panel_size = 1139322  # bp\n",
    "\n",
    "non_syn_mu_per_bp = 1.3617021276595745e-09\n",
    "mu_per_bp = 1.9007092198581563e-09\n",
    "Bolton_468panel_mu = mu_per_bp*Bolton_panel_size\n",
    "Bolton_468panel_non_syn_mu = non_syn_mu_per_bp*Bolton_panel_size\n",
    "\n",
    "print('Bolton_468panel_mu', Bolton_468panel_mu)\n",
    "print('Bolton_468panel_non_syn_mu', Bolton_468panel_non_syn_mu)\n",
    "\n"
   ]
  },
  {
   "cell_type": "markdown",
   "metadata": {},
   "source": [
    "### Define DFE in healthy blood"
   ]
  },
  {
   "cell_type": "code",
   "execution_count": 17,
   "metadata": {},
   "outputs": [
    {
     "name": "stdout",
     "output_type": "stream",
     "text": [
      "Bolton_468panel_functional_non_syn_mu 4.50792581583098e-05\n"
     ]
    }
   ],
   "source": [
    "# expo power + delta + p free\n",
    "p_inferred = 2.62978687\n",
    "q_inferred = 0.07713325\n",
    "ratio_nonneutral = 0.02081683\n",
    "s_max_inferred = float('inf')\n",
    "Bolton_468panel_mu = 0.0021655198297872344\n",
    "\n",
    "Bolton_468panel_functional_non_syn_mu = Bolton_468panel_mu*ratio_nonneutral\n",
    "print('Bolton_468panel_functional_non_syn_mu', Bolton_468panel_functional_non_syn_mu)"
   ]
  },
  {
   "cell_type": "markdown",
   "metadata": {},
   "source": [
    "# Define the passenger prediction"
   ]
  },
  {
   "cell_type": "code",
   "execution_count": 7,
   "metadata": {
    "code_folding": [
     195
    ]
   },
   "outputs": [],
   "source": [
    "import scipy.special as sc\n",
    "\n",
    "N_tau=10**5\n",
    "\n",
    "# # log concave\n",
    "# weight_s= lambda s: np.exp(-((abs(s))/d_inferred)**b_inferred)\n",
    "# normalization=integrate.quad(weight_s, 0.0, s_max_inferred)[0]\n",
    "\n",
    "# # log convex\n",
    "weight_s= lambda s: np.exp(-((abs(s))/q_inferred)**p_inferred)\n",
    "normalization=integrate.quad(weight_s, 0.0, float(\"inf\"))[0]\n",
    "\n",
    "#  dummy factor for efficiency of evaluation\n",
    "def hitchhikers_major_contribution_with_cutoff(l, N_tau, t, u_driver, s):\n",
    "    \n",
    "    N = N_tau\n",
    "    f=np.exp(l)\n",
    "\n",
    "    lower_limit = (2*N*f/(1-2*f))*s*(N*s-1+np.exp(s*t))*np.exp(-s*t) # is larger than upper_limit\n",
    "    upper_limit = (2*N*f/(1-2*f))*N*s**2*np.exp(-s*t)\n",
    "\n",
    "    problematic_large_term_log = np.log((2*N*f/(1-2*f))*N*s**2)+(N*s-1)*(2*N*f/(1-2*f))*s*np.exp(-s*t)-s*t\n",
    "#         print('problematic_large_term_log',problematic_large_term_log)\n",
    "\n",
    "    dummy_factor_log = np.log(10**-1)\n",
    "    approximate_integral = lambda x: mp.exp(dummy_factor_log+problematic_large_term_log-x)/x\n",
    "    ok_term = float(mp.quad(approximate_integral, [lower_limit, upper_limit]))/np.exp(dummy_factor_log)\n",
    "\n",
    "    expected_density = 2*(1/(1-2*f))*N**2*u_driver*((np.exp(-(2*N*f/(1-2*f))*s*np.exp(-s*t))-np.exp(-(2*N*f/(1-2*f))*s))\\\n",
    "                                        +ok_term)\n",
    "\n",
    "    \n",
    "    return expected_density\n",
    "\n",
    "\n",
    "def expected_density_hitchhiker_mutants_s_single(t, l, s1, b, d, mu_ben, N_tau): #s1 = fitness of 1st mutation, s2 = fitness of 2nd mutation\n",
    "\n",
    "    u_driver_at_s1 = mu_ben*np.exp(-((abs(s1))/d)**b)/normalization\n",
    "\n",
    "    expected_density_major_contribution = hitchhikers_major_contribution_with_cutoff(l, N_tau, t, u_driver_at_s1, s1)\n",
    "    \n",
    "    expected_density_minor_contribution = 2*np.exp(l)*N_tau*u_driver_at_s1/(np.exp(l)*s1*(1-2*np.exp(l)))*(-s1*t*np.exp(-(2*N_tau*np.exp(l)/(1-2*np.exp(l)))*s1)+sc.expi(-(2*N_tau*np.exp(l)/(1-2*np.exp(l)))*s1) -\\\n",
    "                                                   sc.expi(-(2*N_tau*np.exp(l)/(1-2*np.exp(l)))*s1*np.exp(-s1*t)))\n",
    "    \n",
    "    expected_density = (expected_density_major_contribution + expected_density_minor_contribution)\n",
    "    \n",
    "    return expected_density\n",
    "\n",
    "\n",
    "\n",
    "def expected_number_hitchhiker_mutants(t, l, b, d, mu_ben, s_lower, s_upper, N_tau):\n",
    "    \n",
    "    result = integrate.quad(lambda s_var: expected_density_hitchhiker_mutants_s_single(t,  l, s_var,\\\n",
    "                                                                        b, d, mu_ben, N_tau), s_lower, s_upper)[0]\n",
    "\n",
    "    return result\n",
    "\n",
    "def logProbtheory_actual_ages_hitch(l, params, N_tau, s_lower, s_upper, list_of_control_ages): #= predicted density (i.e. normalised by 2 x mu)\n",
    "    \"Natural log of the probability of observing a variant within a specific binwidth if able to sequence perfectly\"\n",
    "    total_density=0.0\n",
    "    \n",
    "    b = params[0] \n",
    "    d = params[1]\n",
    "    mu_ben= params[2]\n",
    "    \n",
    "    age_bins_positions=np.linspace(0,100,21)\n",
    "    hist, bins =np.histogram(list_of_control_ages, bins=age_bins_positions)\n",
    "    bin_centres = (bins[:-1] + bins[1:])/2\n",
    "\n",
    "    for i in range(len(bin_centres)):\n",
    "        age = bin_centres[i]\n",
    "        number_of_people = hist[i]\n",
    "        if number_of_people!=0:\n",
    "            total_density= total_density + expected_number_hitchhiker_mutants(age, l, b, d, mu_ben, s_lower, s_upper, N_tau)*number_of_people/len(list_of_control_ages)\n",
    "    \n",
    "    \n",
    "    return np.log(total_density)\n",
    "\n"
   ]
  },
  {
   "cell_type": "markdown",
   "metadata": {},
   "source": [
    "# Plot the passenger prediction "
   ]
  },
  {
   "cell_type": "code",
   "execution_count": 8,
   "metadata": {},
   "outputs": [
    {
     "name": "stdout",
     "output_type": "stream",
     "text": [
      "The DFE has a lower cutt off at s= 0.035\n"
     ]
    }
   ],
   "source": [
    "s_tolerance=3.5/100\n",
    "print('The DFE has a lower cutt off at s=', s_tolerance)\n",
    "\n",
    "list_of_control_ages = [20]\n",
    "\n",
    "color_6p = '#1a9641'\n",
    "color_9p = '#a6d96a'\n",
    "color_12p = '#fdae61' # orange\n",
    "color_15p = '#d7191c' # red\n",
    "color_beyond15p = '#756bb1' # purple"
   ]
  },
  {
   "cell_type": "code",
   "execution_count": 21,
   "metadata": {},
   "outputs": [
    {
     "name": "stderr",
     "output_type": "stream",
     "text": [
      "C:\\Users\\chickchick\\Anaconda3\\lib\\site-packages\\ipykernel_launcher.py:195: RuntimeWarning: invalid value encountered in log\n",
      "C:\\Users\\chickchick\\Anaconda3\\lib\\site-packages\\ipykernel_launcher.py:195: RuntimeWarning: divide by zero encountered in log\n"
     ]
    },
    {
     "name": "stdout",
     "output_type": "stream",
     "text": [
      "Time:  201.67431570000008\n"
     ]
    },
    {
     "data": {
      "image/png": "[encoded data removed]",
      "text/plain": [
       "<Figure size 720x720 with 1 Axes>"
      ]
     },
     "metadata": {
      "needs_background": "light"
     },
     "output_type": "display_data"
    }
   ],
   "source": [
    "# # if log convex\n",
    "import timeit\n",
    "\n",
    "start = timeit.default_timer()\n",
    "\n",
    "s_max_inferred = 1 # same result as 10\n",
    "\n",
    "plt.close('all')\n",
    "scale = 1.2\n",
    "f, (ax1) = plt.subplots(1, 1, sharey=True, figsize=(10, 10))\n",
    "font = {'weight' : 'normal','size'   : 25}\n",
    "\n",
    "x_passenger=np.linspace(np.log(10**-4), np.log(0.4999999), 100)\n",
    "\n",
    "\n",
    "y_passenger_total = [logProbtheory_actual_ages_hitch(l, [p_inferred, q_inferred, Bolton_468panel_functional_non_syn_mu], N_tau, s_tolerance, s_max_inferred, list_of_control_ages) for l in x_passenger]\n",
    "ax1.plot(x_passenger, y_passenger_total, c = grey3, lw = 4, label= 'total from 3.5 %')\n",
    "\n",
    "y_passenger_beyond_15p = [logProbtheory_actual_ages_hitch(l, [p_inferred, q_inferred, Bolton_468panel_functional_non_syn_mu], N_tau, 0.2, 0.25, list_of_control_ages) for l in x_passenger]\n",
    "ax1.plot(x_passenger, y_passenger_beyond_15p, c = color_beyond15p, lw = 4, label= 'beyond 20 %')\n",
    "\n",
    "y_passenger_beyond_12p = [logProbtheory_actual_ages_hitch(l, [p_inferred, q_inferred, Bolton_468panel_functional_non_syn_mu], N_tau, 0.15, 0.2, list_of_control_ages) for l in x_passenger]\n",
    "ax1.plot(x_passenger, y_passenger_beyond_12p, c = color_15p, lw = 4, label= '15 - 20 %')\n",
    "\n",
    "y_passenger_12p = [logProbtheory_actual_ages_hitch(l, [p_inferred, q_inferred, Bolton_468panel_functional_non_syn_mu], N_tau, 0.12, 0.15, list_of_control_ages) for l in x_passenger]\n",
    "ax1.plot(x_passenger, y_passenger_12p, c = color_12p, lw = 4, label= '12 - 15 %')\n",
    "\n",
    "y_passenger_9p = [logProbtheory_actual_ages_hitch(l, [p_inferred, q_inferred, Bolton_468panel_functional_non_syn_mu], N_tau, 0.09, 0.12, list_of_control_ages) for l in x_passenger]\n",
    "ax1.plot(x_passenger, y_passenger_9p, c = color_9p, lw = 4, label= '9 - 12 %')\n",
    "\n",
    "y_passenger_6p = [logProbtheory_actual_ages_hitch(l, [p_inferred, q_inferred, Bolton_468panel_functional_non_syn_mu], N_tau, 0.035, 0.09, list_of_control_ages) for l in x_passenger]\n",
    "ax1.plot(x_passenger, y_passenger_6p, c = color_6p, lw = 4, label= '3.5 - 9 %')\n",
    "\n",
    "# Set axis limits\n",
    "ax1.set_ylim(np.log(10**-3), np.log(1000000))\n",
    "ax1.set_xlim(np.log(10**-4),np.log(0.5))\n",
    "\n",
    "# # Axis labels\n",
    "axisfont=14*1.2\n",
    "axislabelfont=15*1.2\n",
    "\n",
    "ax1.set_xlabel('variant allele frequency (%)', fontsize = axislabelfont*1.5, labelpad = 6*1.2, fontweight = 'medium')\n",
    "ax1.set_ylabel('relative density of variants', fontsize = axislabelfont*1.5, labelpad = 6*1.2, fontweight = 'medium')\n",
    "\n",
    "x_major_ticks = [np.log(0.0001),np.log(0.0002),np.log(0.0003),np.log(0.0004),np.log(0.0005),np.log(0.0006),np.log(0.0007),np.log(0.0008), np.log(0.0009),\\\n",
    "                 np.log(0.001), np.log(0.002),np.log(0.003),np.log(0.004),np.log(0.005),np.log(0.006),np.log(0.007),np.log(0.008),np.log(0.009), \\\n",
    "                 np.log(0.01),np.log(0.02),np.log(0.03),np.log(0.04),np.log(0.05),np.log(0.06),np.log(0.07),np.log(0.08),np.log(0.09),\\\n",
    "                 np.log(0.1),np.log(0.2),np.log(0.3),np.log(0.4),np.log(0.5),np.log(0.6),np.log(0.7),np.log(0.8),np.log(0.9), np.log(1.0)]\n",
    "x_major_tick_labels = [\"0.01\",\"\",\"\",\"\",\"\",\"\",\"\",\"\",\"\",\\\n",
    "                       \"0.1\",\"\",\"\",\"\",\"\",\"\",\"\",\"\",\"\",\\\n",
    "                       \"1\",\"\",\"\",\"\",\"\",\"\",\"\",\"\",\"\",\\\n",
    "                       \"10\",\"\",\"\",\"\",\"50\",\"\",\"\",\"\",\"\",\"\"]\n",
    "ax1.set_xticks(x_major_ticks)\n",
    "ax1.set_xticklabels(x_major_tick_labels, fontsize = axisfont*1.5)\n",
    "ax1.xaxis.set_tick_params(width=scale, color = grey3, length = 6)\n",
    "\n",
    "y_major_ticks = [\\\n",
    "#                  np.log(10**-14), np.log(10**-12), np.log(10**-10), np.log(10**-8), np.log(10**-6),\\\n",
    "#                  np.log(10**-4), \\\n",
    "                 np.log(10**-2),\\\n",
    "                 np.log(1), np.log(10**2), np.log(10**4)]\n",
    "y_major_tick_labels = [\\\n",
    "#                        \"$10^{-14}$\",\"$10^{-12}$\",\"$10^{-10}$\",\"$10^{-8}$\",\"$10^{-6}$\",\\\n",
    "#                        \"$10^{-4}$\",\\\n",
    "                       \"$10^{-2}$\",\\\n",
    "                      \"$10^{0}$\",\"$10^{2}$\",\"$10^{4}$\",]\n",
    "\n",
    "ax1.set_yticks(y_major_ticks)\n",
    "ax1.set_yticklabels(y_major_tick_labels, fontsize = axisfont*1.5)\n",
    "ax1.yaxis.set_tick_params(width=scale, color = grey3, length = 6)\n",
    "\n",
    "#Only show the required axis lines\n",
    "ax1.spines['top'].set_visible(False)\n",
    "ax1.spines['right'].set_visible(False)\n",
    "\n",
    "for axis in ['bottom','left']:\n",
    "    ax1.spines[axis].set_linewidth(1.5)\n",
    "\n",
    "for axis in ['bottom','left']:\n",
    "    ax1.spines[axis].set_color(grey3)\n",
    "        \n",
    "# ax1.legend(frameon=0, fontsize= 18)\n",
    "\n",
    "# ax1.set_title('Age 80', fontsize=20)\n",
    "\n",
    "# plt.savefig('pfree_mpfinalized_age20_all468_genes.pdf', bbox_inches='tight')        \n",
    "\n",
    "stop = timeit.default_timer()\n",
    "\n",
    "print('Time: ', stop - start)"
   ]
  },
  {
   "cell_type": "markdown",
   "metadata": {},
   "source": [
    "### Import Bolton ages"
   ]
  },
  {
   "cell_type": "code",
   "execution_count": 26,
   "metadata": {},
   "outputs": [
    {
     "name": "stdout",
     "output_type": "stream",
     "text": [
      "There are 590 untreated controls in Zehir\n"
     ]
    }
   ],
   "source": [
    "filename='Ahmet_silent_calls.csv'\n",
    "\n",
    "\n",
    "untreated_patients={}\n",
    "with open(filename) as data:\n",
    "    \n",
    "    reader = csv.DictReader(data,delimiter=',')\n",
    "    row_count = 0\n",
    "\n",
    "    for row in reader:\n",
    "\n",
    "        patient_id=str(row['DMP_PATIENT_ID'])\n",
    "        gene=str(row['Gene'])\n",
    "        variant_class=str(row['VariantClass'])\n",
    "        vaf=float(row['N_AltFreq'])\n",
    "        therapy_status=str(row['therapy_binary'])\n",
    "        age=str(row['age'])\n",
    "        \n",
    "        if therapy_status=='untreated':\n",
    "            \n",
    "            #ages of all untreated patients are available\n",
    "            if age=='NA':\n",
    "                print('age unavailable')\n",
    "                age=0\n",
    "            \n",
    "            untreated_patients[patient_id] =  float(age)\n",
    "                \n",
    "        row_count = row_count + 1\n",
    "        \n",
    "list_of_control_ages_Bolton=list(untreated_patients.values())\n",
    "print('There are', len(list_of_control_ages_Bolton), 'untreated controls in Zehir')\n"
   ]
  },
  {
   "cell_type": "code",
   "execution_count": 25,
   "metadata": {},
   "outputs": [
    {
     "name": "stdout",
     "output_type": "stream",
     "text": [
      "y_passenger_total finished [5.026425821270863, 5.290132223783863, 5.5525858058318915, 5.813405592630831, 6.072096269464211, 6.328014941605937, 6.5803290037549145, 6.8279633098150665, 7.069534914857317, 7.303274196423436, 7.526932566151521, 7.737679947971801, 7.932000828374725, 8.105607597509632, 8.253406136550774, 8.369572785123722, 8.44783227143096, 8.482050625827535, 8.467238753252886, 8.40092739142991, 8.28454554122013, 8.124003625867195, 7.928657491838826, 7.708800289281223, 7.473141589697315, 7.227611606382589, 6.975449373802005, 6.717920543071002, 6.455230411280281, 6.18727563571136, 5.914032818531059, 5.635672855769196, 5.352540173172892, 5.065054097085349, 4.77357487090668, 4.478294902627206, 4.179199868881374, 3.8760935941523598, 3.5686409417074443, 3.256384661230334, 2.938717342144857, 2.6148041529117747, 2.2834417204408606, 1.9428033028205225, 1.5899427346941548, 1.2197171911683462, 0.8220604691104889, 0.37323939689077446, -0.207731559279932, -16.29544772849324]\n",
      "y_passenger_beyond_15p finished [1.8245146929442977, 2.086734041914294, 2.347249039154812, 2.6055436970676142, 2.8609488292543985, 3.1125987417463246, 3.359377286475337, 3.599851909541314, 3.83219526072193, 4.054096104437936, 4.26266570292519, 4.45435420018093, 4.624906337477264, 4.769410185167094, 4.88252810959081, 4.959038563875636, 4.994824404102759, 4.988319284335163, 4.942007552840052, 4.8628774170291, 4.760551129473671, 4.643548562287688, 4.516681977689125, 4.381570791685894, 4.238510117912693, 4.08754411082358, 3.9287251493549147, 3.762142877578897, 3.5879277796299185, 3.4062533293237323, 3.2173373140956163, 3.021441974141709, 2.8188727024345455, 2.6099751804220626, 2.395130942103862, 2.1747514541579474, 1.9492708626672595, 1.7191375730615277, 1.4848047721449347, 1.2467198067381646, 1.0053118627047313, 0.760976350252895, 0.5140520241248723, 0.2647808641504412, 0.013223831634984832, -0.24094904902146405, -0.49908883389898107, -0.7660223761326151, -1.0656743979811065, -16.294712855038185]\n"
     ]
    },
    {
     "name": "stderr",
     "output_type": "stream",
     "text": [
      "C:\\Users\\chickchick\\Anaconda3\\lib\\site-packages\\ipykernel_launcher.py:195: RuntimeWarning: divide by zero encountered in log\n"
     ]
    },
    {
     "name": "stdout",
     "output_type": "stream",
     "text": [
      "y_passenger_15p finished [3.6761318737063298, 3.9389845069902876, 4.200323261064358, 4.459687803410917, 4.716479682658855, 4.969922225221667, 5.219009769307092, 5.462444149927943, 5.698556567827566, 5.925213888174287, 6.13971068812172, 6.338653188307293, 6.5178505805472655, 6.672246426400814, 6.795952204679526, 6.882490590107734, 6.925412670774725, 6.919482210282749, 6.86249670071503, 6.757301450482223, 6.6125771094756205, 6.440569788571507, 6.252213865883433, 6.053740918091925, 5.847451982807185, 5.634119865421451, 5.414258537586089, 5.18839248685988, 4.957072273252733, 4.720863734878484, 4.480334600008816, 4.236039544606864, 3.9885038527635697, 3.7382057345322983, 3.485557183928417, 3.230882987745909, 2.9743970840587335, 2.7161748306410085, 2.4561186705924074, 2.193912712944154, 1.9289578256299345, 1.66027068004589, 1.3863127142952332, 1.1046744088735758, 0.8114332783207584, 0.4996763545512168, 0.15547182036926432, -0.25629873483981397, -0.871612392951185, -inf]\n",
      "y_passenger_12p finished [4.1751224246517555, 4.438747417788293, 4.7010931405908565, 4.961769478469338, 5.220268461619175, 5.475929458533004, 5.727894671683433, 5.975052670196947, 6.2159675164362325, 6.448791191575409, 6.671157883191507, 6.880060978215455, 7.07171859752749, 7.241443478461146, 7.383551731516427, 7.491378106401415, 7.557519117547737, 7.574498560697081, 7.536106344370084, 7.4395624415269435, 7.288091667747714, 7.092241250996769, 6.867437693832336, 6.627861145178352, 6.381783921544093, 6.132293416946677, 5.880335649288161, 5.626364068003137, 5.370686819162323, 5.113478911583562, 4.854759444741357, 4.594365592017839, 4.3319247930603275, 4.066825828248466, 3.798189694327259, 3.5248410928040284, 3.2452804503783304, 2.9576540484464005, 2.6597151043041367, 2.3487598756127515, 2.021506321324023, 1.6738508702294035, 1.3003786534296244, 0.8933805104858071, 0.44082701159021415, -0.07818941463975716, -0.705569562812138, -1.5461390593919648, -3.002758994467714, -inf]\n",
      "y_passenger_9p finished [3.5167898895204117, 3.781442952427333, 4.045130730750043, 4.3075583070182795, 4.568341271012751, 4.8269790008735525, 5.082820283495462, 5.335019311591252, 5.582479773330757, 5.823784535144083, 6.057108493046356, 6.280112885840883, 6.489821382426945, 6.6824827686388755, 6.853434170250893, 6.99699599768468, 7.1064606138629705, 7.174287660040398, 7.192691622258459, 7.154875456011924, 7.0571141176021275, 6.9014378040104685, 6.697491927735528, 6.46095930495106, 6.207603464065842, 5.9473046630751565, 5.68341213945327, 5.415836400357329, 5.143356560452469, 4.864284510492708, 4.576542717940922, 4.277675444647918, 3.964878470255125, 3.635051542143803, 3.2848651285298747, 2.9108208200148247, 2.509269337516119, 2.0763364641587603, 1.6077012060422067, 1.098164392928049, 0.540904402390491, -0.07380056403181491, -0.7608087906178851, -1.5441323243622642, -2.4647355067048595, -3.598261704221217, -5.105526188906486, -7.42895812463368, -12.661779739305826, -inf]\n"
     ]
    },
    {
     "name": "stderr",
     "output_type": "stream",
     "text": [
      "C:\\Users\\chickchick\\Anaconda3\\lib\\site-packages\\ipykernel_launcher.py:195: RuntimeWarning: invalid value encountered in log\n"
     ]
    },
    {
     "name": "stdout",
     "output_type": "stream",
     "text": [
      "y_passenger_6p finished [2.075722973937869, 2.3414744669531404, 2.606596770832856, 2.8708973127027595, 3.1341248397283197, 3.395951723630753, 3.6559510616311024, 3.91356713991297, 4.168077502790925, 4.418544532121464, 4.66375414425148, 4.9021390722635845, 5.1316844492185965, 5.349814472163213, 5.553261587767812, 5.737925270324183, 5.898738385359659, 6.029579008236764, 6.123299346339258, 6.1719950975256515, 6.167701653121506, 6.103732811829038, 5.976732683515471, 5.788930834477612, 5.549003664357819, 5.269468170948202, 4.960953082640214, 4.627749338661996, 4.26807399222435, 3.8769283107705443, 3.448165605087527, 2.9752736955269854, 2.4516486687759738, 1.8706599963733088, 1.2254158666480637, 0.508090969950053, -0.29123249032522625, -1.1861699769804157, -2.196037032272328, -3.3483280210866053, -4.6822817978067075, -6.25555610300829, -8.158738462799693, -10.54765651366285, -13.717194576107378, -18.286561413793475, -25.836035102938062, nan, -74.5008287213688, -inf]\n"
     ]
    },
    {
     "data": {
      "image/png": "[encoded data removed]",
      "text/plain": [
       "<Figure size 720x720 with 1 Axes>"
      ]
     },
     "metadata": {
      "needs_background": "light"
     },
     "output_type": "display_data"
    }
   ],
   "source": [
    "s_max_inferred = 1 # same result as 10\n",
    "\n",
    "plt.close('all')\n",
    "scale = 1.2\n",
    "f, (ax1) = plt.subplots(1, 1, sharey=True, figsize=(10, 10))\n",
    "font = {'weight' : 'normal','size'   : 16}\n",
    "\n",
    "x_passenger=np.linspace(np.log(10**-6), np.log(0.4999999), 50)\n",
    "\n",
    "y_passenger_total = [logProbtheory_actual_ages_hitch(l, [p_inferred, q_inferred, Bolton_468panel_functional_non_syn_mu], N_tau, s_tolerance, s_max_inferred, list_of_control_ages) for l in x_passenger]\n",
    "ax1.plot(x_passenger, y_passenger_total, c = grey3, lw = 4, label= 'total from 3.5 %')\n",
    "print('y_passenger_total finished', y_passenger_total)\n",
    "\n",
    "y_passenger_beyond_15p = [logProbtheory_actual_ages_hitch(l, [p_inferred, q_inferred, Bolton_468panel_functional_non_syn_mu], N_tau, 0.15, s_max_inferred, list_of_control_ages) for l in x_passenger]\n",
    "ax1.plot(x_passenger, y_passenger_beyond_15p, c = color_beyond15p, lw = 4, label= 'beyond 15 %')\n",
    "print('y_passenger_beyond_15p finished', y_passenger_beyond_15p)\n",
    "\n",
    "y_passenger_15p = [logProbtheory_actual_ages_hitch(l, [p_inferred, q_inferred, Bolton_468panel_functional_non_syn_mu], N_tau, 0.12, 0.15, list_of_control_ages) for l in x_passenger]\n",
    "ax1.plot(x_passenger, y_passenger_15p, c = color_15p, lw = 4, label= '12 - 15 %')\n",
    "print('y_passenger_15p finished', y_passenger_15p)\n",
    "\n",
    "y_passenger_12p = [logProbtheory_actual_ages_hitch(l, [p_inferred, q_inferred, Bolton_468panel_functional_non_syn_mu], N_tau, 0.09, 0.12, list_of_control_ages) for l in x_passenger]\n",
    "ax1.plot(x_passenger, y_passenger_12p, c = color_12p, lw = 4, label= '9 - 12 %')\n",
    "print('y_passenger_12p finished', y_passenger_12p)\n",
    "\n",
    "y_passenger_9p = [logProbtheory_actual_ages_hitch(l, [p_inferred, q_inferred, Bolton_468panel_functional_non_syn_mu], N_tau, 0.06, 0.09, list_of_control_ages) for l in x_passenger]\n",
    "ax1.plot(x_passenger, y_passenger_9p, c = color_9p, lw = 4, label= '6 - 9 %')\n",
    "print('y_passenger_9p finished', y_passenger_9p)\n",
    "\n",
    "y_passenger_6p = [logProbtheory_actual_ages_hitch(l, [p_inferred, q_inferred, Bolton_468panel_functional_non_syn_mu], N_tau, 0.035, 0.06, list_of_control_ages) for l in x_passenger]\n",
    "ax1.plot(x_passenger, y_passenger_6p, c = color_6p, lw = 4, label= '3.5 - 6 %')\n",
    "print('y_passenger_6p finished', y_passenger_6p)\n",
    "\n",
    "# Set axis limits\n",
    "ax1.set_ylim(np.log(10**-3), np.log(1000000))\n",
    "ax1.set_xlim(np.log(10**-4),np.log(0.5))\n",
    "\n",
    "# # Axis labels\n",
    "axisfont=14*1.2\n",
    "axislabelfont=15*1.2\n",
    "\n",
    "ax1.set_xlabel('variant allele frequency (%)', fontsize = axislabelfont*1.5, labelpad = 6*1.2, fontweight = 'medium')\n",
    "ax1.set_ylabel('relative density of variants', fontsize = axislabelfont*1.5, labelpad = 6*1.2, fontweight = 'medium')\n",
    "\n",
    "x_major_ticks = [np.log(0.0001),np.log(0.0002),np.log(0.0003),np.log(0.0004),np.log(0.0005),np.log(0.0006),np.log(0.0007),np.log(0.0008), np.log(0.0009),\\\n",
    "                 np.log(0.001), np.log(0.002),np.log(0.003),np.log(0.004),np.log(0.005),np.log(0.006),np.log(0.007),np.log(0.008),np.log(0.009), \\\n",
    "                 np.log(0.01),np.log(0.02),np.log(0.03),np.log(0.04),np.log(0.05),np.log(0.06),np.log(0.07),np.log(0.08),np.log(0.09),\\\n",
    "                 np.log(0.1),np.log(0.2),np.log(0.3),np.log(0.4),np.log(0.5),np.log(0.6),np.log(0.7),np.log(0.8),np.log(0.9), np.log(1.0)]\n",
    "x_major_tick_labels = [\"0.01\",\"\",\"\",\"\",\"\",\"\",\"\",\"\",\"\",\\\n",
    "                       \"0.1\",\"\",\"\",\"\",\"\",\"\",\"\",\"\",\"\",\\\n",
    "                       \"1\",\"\",\"\",\"\",\"\",\"\",\"\",\"\",\"\",\\\n",
    "                       \"10\",\"\",\"\",\"\",\"50\",\"\",\"\",\"\",\"\",\"\"]\n",
    "ax1.set_xticks(x_major_ticks)\n",
    "ax1.set_xticklabels(x_major_tick_labels, fontsize = axisfont*1.5)\n",
    "ax1.xaxis.set_tick_params(width=scale, color = grey3, length = 6)\n",
    "\n",
    "y_major_ticks = [np.log(10**-2), np.log(1), np.log(10**2), np.log(10**4)]\n",
    "y_major_tick_labels = [ \"$10^{-2}$\",\"$10^{0}$\",\"$10^{2}$\",\"$10^{4}$\",]\n",
    "\n",
    "ax1.set_yticks(y_major_ticks)\n",
    "ax1.set_yticklabels(y_major_tick_labels, fontsize = axisfont*1.5)\n",
    "ax1.yaxis.set_tick_params(width=scale, color = grey3, length = 6)\n",
    "\n",
    "#Only show the required axis lines\n",
    "ax1.spines['top'].set_visible(False)\n",
    "ax1.spines['right'].set_visible(False)\n",
    "\n",
    "for axis in ['bottom','left']:\n",
    "    ax1.spines[axis].set_linewidth(1.5)\n",
    "\n",
    "for axis in ['bottom','left']:\n",
    "    ax1.spines[axis].set_color(grey3)\n",
    "        \n",
    "# ax1.legend(frameon=0, fontsize= 18)\n",
    "\n",
    "\n",
    "# plt.savefig('pfree_mpfinalized_Bolton_ages_all468_genes.pdf', bbox_inches='tight')        \n"
   ]
  },
  {
   "cell_type": "markdown",
   "metadata": {},
   "source": [
    "### Stored results"
   ]
  },
  {
   "cell_type": "code",
   "execution_count": 11,
   "metadata": {},
   "outputs": [],
   "source": [
    "y_passenger_total = [5.026425821270863, 5.290132223783863, 5.5525858058318915, 5.813405592630831, 6.072096269464211, 6.328014941605937, 6.5803290037549145, 6.8279633098150665, 7.069534914857317, 7.303274196423436, 7.526932566151521, 7.737679947971801, 7.932000828374725, 8.105607597509632, 8.253406136550774, 8.369572785123722, 8.44783227143096, 8.482050625827535, 8.467238753252886, 8.40092739142991, 8.28454554122013, 8.124003625867195, 7.928657491838826, 7.708800289281223, 7.473141589697315, 7.227611606382589, 6.975449373802005, 6.717920543071002, 6.455230411280281, 6.18727563571136, 5.914032818531059, 5.635672855769196, 5.352540173172892, 5.065054097085349, 4.77357487090668, 4.478294902627206, 4.179199868881374, 3.8760935941523598, 3.5686409417074443, 3.256384661230334, 2.938717342144857, 2.6148041529117747, 2.2834417204408606, 1.9428033028205225, 1.5899427346941548, 1.2197171911683462, 0.8220604691104889, 0.37323939689077446, -0.207731559279932, -16.29544772849324]\n",
    "\n",
    "y_passenger_beyond_15p = [1.8245146929442977, 2.086734041914294, 2.347249039154812, 2.6055436970676142, 2.8609488292543985, 3.1125987417463246, 3.359377286475337, 3.599851909541314, 3.83219526072193, 4.054096104437936, 4.26266570292519, 4.45435420018093, 4.624906337477264, 4.769410185167094, 4.88252810959081, 4.959038563875636, 4.994824404102759, 4.988319284335163, 4.942007552840052, 4.8628774170291, 4.760551129473671, 4.643548562287688, 4.516681977689125, 4.381570791685894, 4.238510117912693, 4.08754411082358, 3.9287251493549147, 3.762142877578897, 3.5879277796299185, 3.4062533293237323, 3.2173373140956163, 3.021441974141709, 2.8188727024345455, 2.6099751804220626, 2.395130942103862, 2.1747514541579474, 1.9492708626672595, 1.7191375730615277, 1.4848047721449347, 1.2467198067381646, 1.0053118627047313, 0.760976350252895, 0.5140520241248723, 0.2647808641504412, 0.013223831634984832, -0.24094904902146405, -0.49908883389898107, -0.7660223761326151, -1.0656743979811065, -16.294712855038185]\n",
    "\n",
    "y_passenger_15p = [3.6761318737063298, 3.9389845069902876, 4.200323261064358, 4.459687803410917, 4.716479682658855, 4.969922225221667, 5.219009769307092, 5.462444149927943, 5.698556567827566, 5.925213888174287, 6.13971068812172, 6.338653188307293, 6.5178505805472655, 6.672246426400814, 6.795952204679526, 6.882490590107734, 6.925412670774725, 6.919482210282749, 6.86249670071503, 6.757301450482223, 6.6125771094756205, 6.440569788571507, 6.252213865883433, 6.053740918091925, 5.847451982807185, 5.634119865421451, 5.414258537586089, 5.18839248685988, 4.957072273252733, 4.720863734878484, 4.480334600008816, 4.236039544606864, 3.9885038527635697, 3.7382057345322983, 3.485557183928417, 3.230882987745909, 2.9743970840587335, 2.7161748306410085, 2.4561186705924074, 2.193912712944154, 1.9289578256299345, 1.66027068004589, 1.3863127142952332, 1.1046744088735758, 0.8114332783207584, 0.4996763545512168, 0.15547182036926432, -0.25629873483981397, -0.871612392951185, float('-inf')]\n",
    "\n",
    "y_passenger_12p = [4.1751224246517555, 4.438747417788293, 4.7010931405908565, 4.961769478469338, 5.220268461619175, 5.475929458533004, 5.727894671683433, 5.975052670196947, 6.2159675164362325, 6.448791191575409, 6.671157883191507, 6.880060978215455, 7.07171859752749, 7.241443478461146, 7.383551731516427, 7.491378106401415, 7.557519117547737, 7.574498560697081, 7.536106344370084, 7.4395624415269435, 7.288091667747714, 7.092241250996769, 6.867437693832336, 6.627861145178352, 6.381783921544093, 6.132293416946677, 5.880335649288161, 5.626364068003137, 5.370686819162323, 5.113478911583562, 4.854759444741357, 4.594365592017839, 4.3319247930603275, 4.066825828248466, 3.798189694327259, 3.5248410928040284, 3.2452804503783304, 2.9576540484464005, 2.6597151043041367, 2.3487598756127515, 2.021506321324023, 1.6738508702294035, 1.3003786534296244, 0.8933805104858071, 0.44082701159021415, -0.07818941463975716, -0.705569562812138, -1.5461390593919648, -3.002758994467714, float('-inf')]\n",
    "\n",
    "y_passenger_9p = [3.5167898895204117, 3.781442952427333, 4.045130730750043, 4.3075583070182795, 4.568341271012751, 4.8269790008735525, 5.082820283495462, 5.335019311591252, 5.582479773330757, 5.823784535144083, 6.057108493046356, 6.280112885840883, 6.489821382426945, 6.6824827686388755, 6.853434170250893, 6.99699599768468, 7.1064606138629705, 7.174287660040398, 7.192691622258459, 7.154875456011924, 7.0571141176021275, 6.9014378040104685, 6.697491927735528, 6.46095930495106, 6.207603464065842, 5.9473046630751565, 5.68341213945327, 5.415836400357329, 5.143356560452469, 4.864284510492708, 4.576542717940922, 4.277675444647918, 3.964878470255125, 3.635051542143803, 3.2848651285298747, 2.9108208200148247, 2.509269337516119, 2.0763364641587603, 1.6077012060422067, 1.098164392928049, 0.540904402390491, -0.07380056403181491, -0.7608087906178851, -1.5441323243622642, -2.4647355067048595, -3.598261704221217, -5.105526188906486, -7.42895812463368, -12.661779739305826, float('-inf')]\n",
    "\n",
    "y_passenger_6p = [2.075722973937869, 2.3414744669531404, 2.606596770832856, 2.8708973127027595, 3.1341248397283197, 3.395951723630753, 3.6559510616311024, 3.91356713991297, 4.168077502790925, 4.418544532121464, 4.66375414425148, 4.9021390722635845, 5.1316844492185965, 5.349814472163213, 5.553261587767812, 5.737925270324183, 5.898738385359659, 6.029579008236764, 6.123299346339258, 6.1719950975256515, 6.167701653121506, 6.103732811829038, 5.976732683515471, 5.788930834477612, 5.549003664357819, 5.269468170948202, 4.960953082640214, 4.627749338661996, 4.26807399222435, 3.8769283107705443, 3.448165605087527, 2.9752736955269854, 2.4516486687759738, 1.8706599963733088, 1.2254158666480637, 0.508090969950053, -0.29123249032522625, -1.1861699769804157, -2.196037032272328, -3.3483280210866053, -4.6822817978067075, -6.25555610300829, -8.158738462799693, -10.54765651366285, -13.717194576107378, -18.286561413793475, -25.836035102938062, float('nan'), -74.5008287213688, float('-inf')]"
   ]
  },
  {
   "cell_type": "markdown",
   "metadata": {},
   "source": [
    "### Contribution by age groups"
   ]
  },
  {
   "cell_type": "code",
   "execution_count": 20,
   "metadata": {},
   "outputs": [],
   "source": [
    "np.percentile(list_of_control_ages, [25, 50, 75])\n",
    "\n",
    "list_q1_ages = []\n",
    "list_q2_ages = []\n",
    "list_q3_ages = []\n",
    "list_q4_ages = []\n",
    "for age in list_of_control_ages:\n",
    "    if age<= 61.5:\n",
    "        list_q1_ages.append(age)\n",
    "    if 61.5< age<= 67.5:\n",
    "        list_q2_ages.append(age)\n",
    "    if 67.5< age<= 74.9:\n",
    "        list_q3_ages.append(age)\n",
    "    if 74.9< age:\n",
    "        list_q4_ages.append(age)"
   ]
  },
  {
   "cell_type": "code",
   "execution_count": 29,
   "metadata": {
    "code_folding": [
     0
    ]
   },
   "outputs": [],
   "source": [
    "# fitness > 15 %\n",
    "plt.close('all')\n",
    "scale = 1.2\n",
    "f, (ax1) = plt.subplots(1, 1, sharey=True, figsize=(10, 10))\n",
    "font = {'weight' : 'normal','size'   : 16}\n",
    "\n",
    "x_passenger=np.linspace(np.log(10**-6), np.log(0.4999), 50)\n",
    "\n",
    "\n",
    "y_passenger_q1 = [logProbtheory_actual_ages_hitch(l, [p_inferred, q_inferred, Bolton_468panel_mu*ratio_nonneutral], N_tau, 0.15, s_max_inferred, list_q1_ages) for l in x_passenger]\n",
    "ax1.plot(x_passenger, y_passenger_q1, c = color_beyond15p, alpha = 0.25, lw = 4, label= 'quartile 1')\n",
    "print('y_passenger_q1', y_passenger_q1)\n",
    "\n",
    "y_passenger_q2 = [logProbtheory_actual_ages_hitch(l, [p_inferred, q_inferred, Bolton_468panel_mu*ratio_nonneutral], N_tau, 0.15, s_max_inferred, list_q2_ages) for l in x_passenger]\n",
    "ax1.plot(x_passenger, y_passenger_q2, c = color_beyond15p, alpha = 0.5, lw = 4, label= 'quartile 2')\n",
    "print('y_passenger_q2', y_passenger_q2)\n",
    "\n",
    "y_passenger_q3 = [logProbtheory_actual_ages_hitch(l, [p_inferred, q_inferred, Bolton_468panel_mu*ratio_nonneutral], N_tau, 0.15, s_max_inferred, list_q3_ages) for l in x_passenger]\n",
    "ax1.plot(x_passenger, y_passenger_q3, c = color_beyond15p, alpha = 0.75, lw = 4, label= 'quartile 3')\n",
    "print('y_passenger_q3', y_passenger_q3)\n",
    "\n",
    "y_passenger_q4 = [logProbtheory_actual_ages_hitch(l, [p_inferred, q_inferred, Bolton_468panel_mu*ratio_nonneutral], N_tau, 0.15, s_max_inferred, list_q4_ages) for l in x_passenger]\n",
    "ax1.plot(x_passenger, y_passenger_q4, c = color_beyond15p, alpha = 1, lw = 4, label= 'quartile 4')\n",
    "print('y_passenger_q4', y_passenger_q4)\n",
    "\n",
    "# Set axis limits\n",
    "ax1.set_ylim(np.log(10**-3), np.log(1000000))\n",
    "ax1.set_xlim(np.log(10**-4), np.log(0.5))\n",
    "\n",
    "# # Axis labels\n",
    "axisfont=14*1.2\n",
    "axislabelfont=15*1.2\n",
    "\n",
    "ax1.set_xlabel('variant allele frequency (%)', fontsize = axislabelfont, labelpad = 6*1.2, fontweight = 'medium')\n",
    "ax1.set_ylabel('relative density of variants', fontsize = axislabelfont, labelpad = 6*1.2, fontweight = 'medium')\n",
    "\n",
    "x_major_ticks = [np.log(0.0001),np.log(0.0002),np.log(0.0003),np.log(0.0004),np.log(0.0005),np.log(0.0006),np.log(0.0007),np.log(0.0008), np.log(0.0009),\\\n",
    "                 np.log(0.001), np.log(0.002),np.log(0.003),np.log(0.004),np.log(0.005),np.log(0.006),np.log(0.007),np.log(0.008),np.log(0.009), \\\n",
    "                 np.log(0.01),np.log(0.02),np.log(0.03),np.log(0.04),np.log(0.05),np.log(0.06),np.log(0.07),np.log(0.08),np.log(0.09),\\\n",
    "                 np.log(0.1),np.log(0.2),np.log(0.3),np.log(0.4),np.log(0.5),np.log(0.6),np.log(0.7),np.log(0.8),np.log(0.9), np.log(1.0)]\n",
    "x_major_tick_labels = [\"0.01\",\"\",\"\",\"\",\"\",\"\",\"\",\"\",\"\",\\\n",
    "                       \"0.1\",\"\",\"\",\"\",\"\",\"\",\"\",\"\",\"\",\\\n",
    "                       \"1\",\"\",\"\",\"\",\"\",\"\",\"\",\"\",\"\",\\\n",
    "                       \"10\",\"\",\"\",\"\",\"50\",\"\",\"\",\"\",\"\",\"\"]\n",
    "ax1.set_xticks(x_major_ticks)\n",
    "ax1.set_xticklabels(x_major_tick_labels, fontsize = axisfont)\n",
    "ax1.xaxis.set_tick_params(width=scale, color = grey3, length = 6)\n",
    "\n",
    "y_major_ticks = [np.log(10**-2), np.log(1), np.log(10**2), np.log(10**4)]\n",
    "y_major_tick_labels = [\"$10^{-2}$\", \"$10^{0}$\",\"$10^{2}$\",\"$10^{4}$\",]\n",
    "\n",
    "ax1.set_yticks(y_major_ticks)\n",
    "ax1.set_yticklabels(y_major_tick_labels, fontsize = axisfont)\n",
    "ax1.yaxis.set_tick_params(width=scale, color = grey3, length = 6)\n",
    "\n",
    "#Only show the required axis lines\n",
    "ax1.spines['top'].set_visible(False)\n",
    "ax1.spines['right'].set_visible(False)\n",
    "\n",
    "for axis in ['bottom','left']:\n",
    "    ax1.spines[axis].set_linewidth(1.5)\n",
    "\n",
    "for axis in ['bottom','left']:\n",
    "    ax1.spines[axis].set_color(grey3)\n",
    "        \n",
    "ax1.legend(frameon=0, fontsize= 18)\n"
   ]
  },
  {
   "cell_type": "code",
   "execution_count": 28,
   "metadata": {
    "code_folding": [
     0
    ]
   },
   "outputs": [],
   "source": [
    "# fitness 12%< s< 15 %\n",
    "plt.close('all')\n",
    "scale = 1.2\n",
    "f, (ax1) = plt.subplots(1, 1, sharey=True, figsize=(10, 10))\n",
    "font = {'weight' : 'normal','size'   : 16}\n",
    "\n",
    "x_passenger=np.linspace(np.log(10**-6), np.log(0.4999), 50)\n",
    "\n",
    "\n",
    "y_passenger_q1 = [logProbtheory_actual_ages_hitch(l, [p_inferred, q_inferred, Bolton_468panel_mu*ratio_nonneutral], N_tau, 0.12, 0.15, list_q1_ages) for l in x_passenger]\n",
    "ax1.plot(x_passenger, y_passenger_q1, c = color_15p, alpha = 0.25, lw = 4, label= 'quartile 1')\n",
    "print('y_passenger_q1', y_passenger_q1)\n",
    "\n",
    "y_passenger_q2 = [logProbtheory_actual_ages_hitch(l, [p_inferred, q_inferred, Bolton_468panel_mu*ratio_nonneutral], N_tau, 0.12, 0.15, list_q2_ages) for l in x_passenger]\n",
    "ax1.plot(x_passenger, y_passenger_q2, c = color_15p, alpha = 0.5, lw = 4, label= 'quartile 2')\n",
    "print('y_passenger_q2', y_passenger_q2)\n",
    "\n",
    "y_passenger_q3 = [logProbtheory_actual_ages_hitch(l, [p_inferred, q_inferred, Bolton_468panel_mu*ratio_nonneutral], N_tau, 0.12, 0.15, list_q3_ages) for l in x_passenger]\n",
    "ax1.plot(x_passenger, y_passenger_q3, c = color_15p, alpha = 0.75, lw = 4, label= 'quartile 3')\n",
    "print('y_passenger_q3', y_passenger_q3)\n",
    "\n",
    "y_passenger_q4 = [logProbtheory_actual_ages_hitch(l, [p_inferred, q_inferred, Bolton_468panel_mu*ratio_nonneutral], N_tau, 0.12, 0.15, list_q4_ages) for l in x_passenger]\n",
    "ax1.plot(x_passenger, y_passenger_q4, c = color_15p, alpha = 1, lw = 4, label= 'quartile 4')\n",
    "print('y_passenger_q4', y_passenger_q4)\n",
    "\n",
    "# Set axis limits\n",
    "ax1.set_ylim(np.log(10**-3), np.log(1000000))\n",
    "ax1.set_xlim(np.log(10**-4), np.log(0.5))\n",
    "\n",
    "# # Axis labels\n",
    "axisfont=14*1.2\n",
    "axislabelfont=15*1.2\n",
    "\n",
    "ax1.set_xlabel('variant allele frequency (%)', fontsize = axislabelfont, labelpad = 6*1.2, fontweight = 'medium')\n",
    "ax1.set_ylabel('relative density of variants', fontsize = axislabelfont, labelpad = 6*1.2, fontweight = 'medium')\n",
    "\n",
    "x_major_ticks = [np.log(0.0001),np.log(0.0002),np.log(0.0003),np.log(0.0004),np.log(0.0005),np.log(0.0006),np.log(0.0007),np.log(0.0008), np.log(0.0009),\\\n",
    "                 np.log(0.001), np.log(0.002),np.log(0.003),np.log(0.004),np.log(0.005),np.log(0.006),np.log(0.007),np.log(0.008),np.log(0.009), \\\n",
    "                 np.log(0.01),np.log(0.02),np.log(0.03),np.log(0.04),np.log(0.05),np.log(0.06),np.log(0.07),np.log(0.08),np.log(0.09),\\\n",
    "                 np.log(0.1),np.log(0.2),np.log(0.3),np.log(0.4),np.log(0.5),np.log(0.6),np.log(0.7),np.log(0.8),np.log(0.9), np.log(1.0)]\n",
    "x_major_tick_labels = [\"0.01\",\"\",\"\",\"\",\"\",\"\",\"\",\"\",\"\",\\\n",
    "                       \"0.1\",\"\",\"\",\"\",\"\",\"\",\"\",\"\",\"\",\\\n",
    "                       \"1\",\"\",\"\",\"\",\"\",\"\",\"\",\"\",\"\",\\\n",
    "                       \"10\",\"\",\"\",\"\",\"50\",\"\",\"\",\"\",\"\",\"\"]\n",
    "ax1.set_xticks(x_major_ticks)\n",
    "ax1.set_xticklabels(x_major_tick_labels, fontsize = axisfont)\n",
    "ax1.xaxis.set_tick_params(width=scale, color = grey3, length = 6)\n",
    "\n",
    "y_major_ticks = [np.log(10**-2), np.log(1), np.log(10**2), np.log(10**4)]\n",
    "y_major_tick_labels = [\"$10^{-2}$\", \"$10^{0}$\",\"$10^{2}$\",\"$10^{4}$\",]\n",
    "\n",
    "ax1.set_yticks(y_major_ticks)\n",
    "ax1.set_yticklabels(y_major_tick_labels, fontsize = axisfont)\n",
    "ax1.yaxis.set_tick_params(width=scale, color = grey3, length = 6)\n",
    "\n",
    "#Only show the required axis lines\n",
    "ax1.spines['top'].set_visible(False)\n",
    "ax1.spines['right'].set_visible(False)\n",
    "\n",
    "for axis in ['bottom','left']:\n",
    "    ax1.spines[axis].set_linewidth(1.5)\n",
    "\n",
    "for axis in ['bottom','left']:\n",
    "    ax1.spines[axis].set_color(grey3)\n",
    "        \n",
    "ax1.legend(frameon=0, fontsize= 18)\n"
   ]
  },
  {
   "cell_type": "code",
   "execution_count": 27,
   "metadata": {
    "code_folding": [
     0
    ]
   },
   "outputs": [],
   "source": [
    "# fitness 9%< s< 12 %\n",
    "plt.close('all')\n",
    "scale = 1.2\n",
    "f, (ax1) = plt.subplots(1, 1, sharey=True, figsize=(10, 10))\n",
    "font = {'weight' : 'normal','size'   : 16}\n",
    "\n",
    "x_passenger=np.linspace(np.log(10**-6), np.log(0.4999), 50)\n",
    "\n",
    "\n",
    "y_passenger_q1 = [logProbtheory_actual_ages_hitch(l, [p_inferred, q_inferred, Bolton_468panel_mu*ratio_nonneutral], N_tau, 0.09, 0.12, list_q1_ages) for l in x_passenger]\n",
    "ax1.plot(x_passenger, y_passenger_q1, c = color_12p, alpha = 0.25, lw = 4, label= 'quartile 1')\n",
    "print('y_passenger_q1', y_passenger_q1)\n",
    "\n",
    "y_passenger_q2 = [logProbtheory_actual_ages_hitch(l, [p_inferred, q_inferred, Bolton_468panel_mu*ratio_nonneutral], N_tau, 0.09, 0.12, list_q2_ages) for l in x_passenger]\n",
    "ax1.plot(x_passenger, y_passenger_q2, c = color_12p, alpha = 0.5, lw = 4, label= 'quartile 2')\n",
    "print('y_passenger_q2', y_passenger_q2)\n",
    "\n",
    "y_passenger_q3 = [logProbtheory_actual_ages_hitch(l, [p_inferred, q_inferred, Bolton_468panel_mu*ratio_nonneutral], N_tau, 0.09, 0.12, list_q3_ages) for l in x_passenger]\n",
    "ax1.plot(x_passenger, y_passenger_q3, c = color_12p, alpha = 0.75, lw = 4, label= 'quartile 3')\n",
    "print('y_passenger_q3', y_passenger_q3)\n",
    "\n",
    "y_passenger_q4 = [logProbtheory_actual_ages_hitch(l, [p_inferred, q_inferred, Bolton_468panel_mu*ratio_nonneutral], N_tau, 0.09, 0.12, list_q4_ages) for l in x_passenger]\n",
    "ax1.plot(x_passenger, y_passenger_q4, c = color_12p, alpha = 1, lw = 4, label= 'quartile 4')\n",
    "print('y_passenger_q4', y_passenger_q4)\n",
    "\n",
    "# Set axis limits\n",
    "ax1.set_ylim(np.log(10**-3), np.log(1000000))\n",
    "ax1.set_xlim(np.log(10**-4), np.log(0.5))\n",
    "\n",
    "# # Axis labels\n",
    "axisfont=14*1.2\n",
    "axislabelfont=15*1.2\n",
    "\n",
    "ax1.set_xlabel('variant allele frequency (%)', fontsize = axislabelfont, labelpad = 6*1.2, fontweight = 'medium')\n",
    "ax1.set_ylabel('relative density of variants', fontsize = axislabelfont, labelpad = 6*1.2, fontweight = 'medium')\n",
    "\n",
    "x_major_ticks = [np.log(0.0001),np.log(0.0002),np.log(0.0003),np.log(0.0004),np.log(0.0005),np.log(0.0006),np.log(0.0007),np.log(0.0008), np.log(0.0009),\\\n",
    "                 np.log(0.001), np.log(0.002),np.log(0.003),np.log(0.004),np.log(0.005),np.log(0.006),np.log(0.007),np.log(0.008),np.log(0.009), \\\n",
    "                 np.log(0.01),np.log(0.02),np.log(0.03),np.log(0.04),np.log(0.05),np.log(0.06),np.log(0.07),np.log(0.08),np.log(0.09),\\\n",
    "                 np.log(0.1),np.log(0.2),np.log(0.3),np.log(0.4),np.log(0.5),np.log(0.6),np.log(0.7),np.log(0.8),np.log(0.9), np.log(1.0)]\n",
    "x_major_tick_labels = [\"0.01\",\"\",\"\",\"\",\"\",\"\",\"\",\"\",\"\",\\\n",
    "                       \"0.1\",\"\",\"\",\"\",\"\",\"\",\"\",\"\",\"\",\\\n",
    "                       \"1\",\"\",\"\",\"\",\"\",\"\",\"\",\"\",\"\",\\\n",
    "                       \"10\",\"\",\"\",\"\",\"50\",\"\",\"\",\"\",\"\",\"\"]\n",
    "ax1.set_xticks(x_major_ticks)\n",
    "ax1.set_xticklabels(x_major_tick_labels, fontsize = axisfont)\n",
    "ax1.xaxis.set_tick_params(width=scale, color = grey3, length = 6)\n",
    "\n",
    "y_major_ticks = [np.log(10**-2), np.log(1), np.log(10**2), np.log(10**4)]\n",
    "y_major_tick_labels = [\"$10^{-2}$\", \"$10^{0}$\",\"$10^{2}$\",\"$10^{4}$\",]\n",
    "\n",
    "ax1.set_yticks(y_major_ticks)\n",
    "ax1.set_yticklabels(y_major_tick_labels, fontsize = axisfont)\n",
    "ax1.yaxis.set_tick_params(width=scale, color = grey3, length = 6)\n",
    "\n",
    "#Only show the required axis lines\n",
    "ax1.spines['top'].set_visible(False)\n",
    "ax1.spines['right'].set_visible(False)\n",
    "\n",
    "for axis in ['bottom','left']:\n",
    "    ax1.spines[axis].set_linewidth(1.5)\n",
    "\n",
    "for axis in ['bottom','left']:\n",
    "    ax1.spines[axis].set_color(grey3)\n",
    "        \n",
    "ax1.legend(frameon=0, fontsize= 18)\n"
   ]
  },
  {
   "cell_type": "code",
   "execution_count": 27,
   "metadata": {
    "code_folding": [
     0
    ]
   },
   "outputs": [],
   "source": [
    "# fitness 6%< s< 9 %\n",
    "plt.close('all')\n",
    "scale = 1.2\n",
    "f, (ax1) = plt.subplots(1, 1, sharey=True, figsize=(10, 10))\n",
    "font = {'weight' : 'normal','size'   : 16}\n",
    "\n",
    "x_passenger=np.linspace(np.log(10**-6), np.log(0.4999), 50)\n",
    "\n",
    "\n",
    "y_passenger_q1 = [logProbtheory_actual_ages_hitch(l, [p_inferred, q_inferred, Bolton_468panel_mu*ratio_nonneutral], N_tau, 0.06, 0.09, list_q1_ages) for l in x_passenger]\n",
    "ax1.plot(x_passenger, y_passenger_q1, c = color_9p, alpha = 0.25, lw = 4, label= 'quartile 1')\n",
    "print('y_passenger_q1', y_passenger_q1)\n",
    "\n",
    "y_passenger_q2 = [logProbtheory_actual_ages_hitch(l, [p_inferred, q_inferred, Bolton_468panel_mu*ratio_nonneutral], N_tau, 0.06, 0.09, list_q2_ages) for l in x_passenger]\n",
    "ax1.plot(x_passenger, y_passenger_q2, c = color_9p, alpha = 0.5, lw = 4, label= 'quartile 2')\n",
    "print('y_passenger_q2', y_passenger_q2)\n",
    "\n",
    "y_passenger_q3 = [logProbtheory_actual_ages_hitch(l, [p_inferred, q_inferred, Bolton_468panel_mu*ratio_nonneutral], N_tau, 0.06, 0.09, list_q3_ages) for l in x_passenger]\n",
    "ax1.plot(x_passenger, y_passenger_q3, c = color_9p, alpha = 0.75, lw = 4, label= 'quartile 3')\n",
    "print('y_passenger_q3', y_passenger_q3)\n",
    "\n",
    "y_passenger_q4 = [logProbtheory_actual_ages_hitch(l, [p_inferred, q_inferred, Bolton_468panel_mu*ratio_nonneutral], N_tau, 0.06, 0.09, list_q4_ages) for l in x_passenger]\n",
    "ax1.plot(x_passenger, y_passenger_q4, c = color_9p, alpha = 1, lw = 4, label= 'quartile 4')\n",
    "print('y_passenger_q4', y_passenger_q4)\n",
    "\n",
    "# Set axis limits\n",
    "ax1.set_ylim(np.log(10**-3), np.log(1000000))\n",
    "ax1.set_xlim(np.log(10**-4), np.log(0.5))\n",
    "\n",
    "# # Axis labels\n",
    "axisfont=14*1.2\n",
    "axislabelfont=15*1.2\n",
    "\n",
    "ax1.set_xlabel('variant allele frequency (%)', fontsize = axislabelfont, labelpad = 6*1.2, fontweight = 'medium')\n",
    "ax1.set_ylabel('relative density of variants', fontsize = axislabelfont, labelpad = 6*1.2, fontweight = 'medium')\n",
    "\n",
    "x_major_ticks = [np.log(0.0001),np.log(0.0002),np.log(0.0003),np.log(0.0004),np.log(0.0005),np.log(0.0006),np.log(0.0007),np.log(0.0008), np.log(0.0009),\\\n",
    "                 np.log(0.001), np.log(0.002),np.log(0.003),np.log(0.004),np.log(0.005),np.log(0.006),np.log(0.007),np.log(0.008),np.log(0.009), \\\n",
    "                 np.log(0.01),np.log(0.02),np.log(0.03),np.log(0.04),np.log(0.05),np.log(0.06),np.log(0.07),np.log(0.08),np.log(0.09),\\\n",
    "                 np.log(0.1),np.log(0.2),np.log(0.3),np.log(0.4),np.log(0.5),np.log(0.6),np.log(0.7),np.log(0.8),np.log(0.9), np.log(1.0)]\n",
    "x_major_tick_labels = [\"0.01\",\"\",\"\",\"\",\"\",\"\",\"\",\"\",\"\",\\\n",
    "                       \"0.1\",\"\",\"\",\"\",\"\",\"\",\"\",\"\",\"\",\\\n",
    "                       \"1\",\"\",\"\",\"\",\"\",\"\",\"\",\"\",\"\",\\\n",
    "                       \"10\",\"\",\"\",\"\",\"50\",\"\",\"\",\"\",\"\",\"\"]\n",
    "ax1.set_xticks(x_major_ticks)\n",
    "ax1.set_xticklabels(x_major_tick_labels, fontsize = axisfont)\n",
    "ax1.xaxis.set_tick_params(width=scale, color = grey3, length = 6)\n",
    "\n",
    "y_major_ticks = [np.log(10**-2), np.log(1), np.log(10**2), np.log(10**4)]\n",
    "y_major_tick_labels = [\"$10^{-2}$\", \"$10^{0}$\",\"$10^{2}$\",\"$10^{4}$\",]\n",
    "\n",
    "ax1.set_yticks(y_major_ticks)\n",
    "ax1.set_yticklabels(y_major_tick_labels, fontsize = axisfont)\n",
    "ax1.yaxis.set_tick_params(width=scale, color = grey3, length = 6)\n",
    "\n",
    "#Only show the required axis lines\n",
    "ax1.spines['top'].set_visible(False)\n",
    "ax1.spines['right'].set_visible(False)\n",
    "\n",
    "for axis in ['bottom','left']:\n",
    "    ax1.spines[axis].set_linewidth(1.5)\n",
    "\n",
    "for axis in ['bottom','left']:\n",
    "    ax1.spines[axis].set_color(grey3)\n",
    "        \n",
    "ax1.legend(frameon=0, fontsize= 18)\n"
   ]
  },
  {
   "cell_type": "code",
   "execution_count": 27,
   "metadata": {
    "code_folding": [
     0
    ]
   },
   "outputs": [],
   "source": [
    "# fitness 3.5%< s< 6%\n",
    "plt.close('all')\n",
    "scale = 1.2\n",
    "f, (ax1) = plt.subplots(1, 1, sharey=True, figsize=(10, 10))\n",
    "font = {'weight' : 'normal','size'   : 16}\n",
    "\n",
    "x_passenger=np.linspace(np.log(10**-6), np.log(0.4999), 50)\n",
    "\n",
    "\n",
    "y_passenger_q1 = [logProbtheory_actual_ages_hitch(l, [p_inferred, q_inferred, Bolton_468panel_mu*ratio_nonneutral], N_tau, 0.035, 0.06, list_q1_ages) for l in x_passenger]\n",
    "ax1.plot(x_passenger, y_passenger_q1, c = color_6p, alpha = 0.25, lw = 4, label= 'quartile 1')\n",
    "print('y_passenger_q1', y_passenger_q1)\n",
    "\n",
    "y_passenger_q2 = [logProbtheory_actual_ages_hitch(l, [p_inferred, q_inferred, Bolton_468panel_mu*ratio_nonneutral], N_tau, 0.035, 0.06, list_q2_ages) for l in x_passenger]\n",
    "ax1.plot(x_passenger, y_passenger_q2, c = color_6p, alpha = 0.5, lw = 4, label= 'quartile 2')\n",
    "print('y_passenger_q2', y_passenger_q2)\n",
    "\n",
    "y_passenger_q3 = [logProbtheory_actual_ages_hitch(l, [p_inferred, q_inferred, Bolton_468panel_mu*ratio_nonneutral], N_tau, 0.035, 0.06, list_q3_ages) for l in x_passenger]\n",
    "ax1.plot(x_passenger, y_passenger_q3, c = color_6p, alpha = 0.75, lw = 4, label= 'quartile 3')\n",
    "print('y_passenger_q3', y_passenger_q3)\n",
    "\n",
    "y_passenger_q4 = [logProbtheory_actual_ages_hitch(l, [p_inferred, q_inferred, Bolton_468panel_mu*ratio_nonneutral], N_tau, 0.035, 0.06, list_q4_ages) for l in x_passenger]\n",
    "ax1.plot(x_passenger, y_passenger_q4, c = color_6p, alpha = 1, lw = 4, label= 'quartile 4')\n",
    "print('y_passenger_q4', y_passenger_q4)\n",
    "\n",
    "# Set axis limits\n",
    "ax1.set_ylim(np.log(10**-3), np.log(1000000))\n",
    "ax1.set_xlim(np.log(10**-4), np.log(0.5))\n",
    "\n",
    "# # Axis labels\n",
    "axisfont=14*1.2\n",
    "axislabelfont=15*1.2\n",
    "\n",
    "ax1.set_xlabel('variant allele frequency (%)', fontsize = axislabelfont, labelpad = 6*1.2, fontweight = 'medium')\n",
    "ax1.set_ylabel('relative density of variants', fontsize = axislabelfont, labelpad = 6*1.2, fontweight = 'medium')\n",
    "\n",
    "x_major_ticks = [np.log(0.0001),np.log(0.0002),np.log(0.0003),np.log(0.0004),np.log(0.0005),np.log(0.0006),np.log(0.0007),np.log(0.0008), np.log(0.0009),\\\n",
    "                 np.log(0.001), np.log(0.002),np.log(0.003),np.log(0.004),np.log(0.005),np.log(0.006),np.log(0.007),np.log(0.008),np.log(0.009), \\\n",
    "                 np.log(0.01),np.log(0.02),np.log(0.03),np.log(0.04),np.log(0.05),np.log(0.06),np.log(0.07),np.log(0.08),np.log(0.09),\\\n",
    "                 np.log(0.1),np.log(0.2),np.log(0.3),np.log(0.4),np.log(0.5),np.log(0.6),np.log(0.7),np.log(0.8),np.log(0.9), np.log(1.0)]\n",
    "x_major_tick_labels = [\"0.01\",\"\",\"\",\"\",\"\",\"\",\"\",\"\",\"\",\\\n",
    "                       \"0.1\",\"\",\"\",\"\",\"\",\"\",\"\",\"\",\"\",\\\n",
    "                       \"1\",\"\",\"\",\"\",\"\",\"\",\"\",\"\",\"\",\\\n",
    "                       \"10\",\"\",\"\",\"\",\"50\",\"\",\"\",\"\",\"\",\"\"]\n",
    "ax1.set_xticks(x_major_ticks)\n",
    "ax1.set_xticklabels(x_major_tick_labels, fontsize = axisfont)\n",
    "ax1.xaxis.set_tick_params(width=scale, color = grey3, length = 6)\n",
    "\n",
    "y_major_ticks = [np.log(10**-2), np.log(1), np.log(10**2), np.log(10**4)]\n",
    "y_major_tick_labels = [\"$10^{-2}$\", \"$10^{0}$\",\"$10^{2}$\",\"$10^{4}$\",]\n",
    "\n",
    "ax1.set_yticks(y_major_ticks)\n",
    "ax1.set_yticklabels(y_major_tick_labels, fontsize = axisfont)\n",
    "ax1.yaxis.set_tick_params(width=scale, color = grey3, length = 6)\n",
    "\n",
    "#Only show the required axis lines\n",
    "ax1.spines['top'].set_visible(False)\n",
    "ax1.spines['right'].set_visible(False)\n",
    "\n",
    "for axis in ['bottom','left']:\n",
    "    ax1.spines[axis].set_linewidth(1.5)\n",
    "\n",
    "for axis in ['bottom','left']:\n",
    "    ax1.spines[axis].set_color(grey3)\n",
    "        \n",
    "ax1.legend(frameon=0, fontsize= 18)\n"
   ]
  },
  {
   "cell_type": "markdown",
   "metadata": {},
   "source": [
    "# Analytical approximations"
   ]
  },
  {
   "cell_type": "markdown",
   "metadata": {},
   "source": [
    "Analytical approximations to the most dominant s."
   ]
  },
  {
   "cell_type": "code",
   "execution_count": 206,
   "metadata": {},
   "outputs": [
    {
     "name": "stdout",
     "output_type": "stream",
     "text": [
      "freq 0.02\n",
      "n_tau: 4166.666666666667\n",
      "t 40\n"
     ]
    }
   ],
   "source": [
    "freq=2/100\n",
    "print('freq',freq)\n",
    "n_tau = 2*N_tau*freq/(1-2*freq)\n",
    "print('n_tau:',n_tau)\n",
    "t = max(list_of_control_ages)\n",
    "t = 40\n",
    "print('t',t)\n",
    "\n",
    "first_order_derivative_A_C_only= lambda s: (-2-p_inferred*(s/q_inferred)**p_inferred)+s*(t+(s*t+1)*n_tau*np.exp(-s*t))\n",
    "    \n",
    "first_order_derivative_A_C_D_only= lambda s: ((-2-p_inferred*(s/q_inferred)**p_inferred)+s*(t+(s*t+1)*n_tau*np.exp(-s*t)))*np.exp(s*t-n_tau*s*np.exp(-s*t))-\\\n",
    "s*np.exp(-n_tau*s)*(n_tau*(np.exp(s*t)-1)+t*np.exp(s*t)+n_tau*s*t*np.exp(s*t))\n",
    "\n",
    "first_order_derivative_A_B_C_D_only= lambda s: ((-2-p_inferred*(s/q_inferred)**p_inferred)+s*(t+(s*t+1)*n_tau*np.exp(-s*t)))*np.exp(s*t-n_tau*s*np.exp(-s*t))-\\\n",
    "s*np.exp(-n_tau*s)*(n_tau*(np.exp(s*t)-1)+t*np.exp(s*t)+n_tau*s*t*np.exp(s*t))+np.exp(-n_tau*s)*(np.exp(s*t)+n_tau*s*(np.exp(s*t)-1))*(s-(-2-p_inferred*(s/q_inferred)**p_inferred))\n",
    "    "
   ]
  },
  {
   "cell_type": "code",
   "execution_count": 79,
   "metadata": {},
   "outputs": [
    {
     "name": "stdout",
     "output_type": "stream",
     "text": [
      "predominant_s_solution_A_C_only  [0.11205507]\n",
      "predominant_s_solution_A_C_D_only  [0.11205507]\n",
      "predominant_s_solution_A_B_C_D_only  [0.11205507]\n"
     ]
    }
   ],
   "source": [
    "from scipy.optimize import fsolve\n",
    "\n",
    "predominant_s_initial_guess = 0.3\n",
    "\n",
    "predominant_s_solution_A_C_only = fsolve(first_order_derivative_A_C_only, predominant_s_initial_guess)\n",
    "\n",
    "predominant_s_solution_A_C_D_only = fsolve(first_order_derivative_A_C_D_only, predominant_s_initial_guess)\n",
    "\n",
    "predominant_s_solution_A_B_C_D_only = fsolve(first_order_derivative_A_B_C_D_only, predominant_s_initial_guess)\n",
    "\n",
    "print('predominant_s_solution_A_C_only ', predominant_s_solution_A_C_only)\n",
    "print('predominant_s_solution_A_C_D_only ', predominant_s_solution_A_C_D_only)\n",
    "print('predominant_s_solution_A_B_C_D_only ', predominant_s_solution_A_B_C_D_only)"
   ]
  },
  {
   "cell_type": "code",
   "execution_count": 207,
   "metadata": {},
   "outputs": [
    {
     "name": "stderr",
     "output_type": "stream",
     "text": [
      "C:\\Users\\chickchick\\Anaconda3\\lib\\site-packages\\ipykernel_launcher.py:44: RuntimeWarning: divide by zero encountered in double_scalars\n",
      "C:\\Users\\chickchick\\Anaconda3\\lib\\site-packages\\ipykernel_launcher.py:46: RuntimeWarning: invalid value encountered in double_scalars\n",
      "C:\\Users\\chickchick\\Anaconda3\\lib\\site-packages\\ipykernel_launcher.py:91: RuntimeWarning: divide by zero encountered in double_scalars\n",
      "C:\\Users\\chickchick\\Anaconda3\\lib\\site-packages\\ipykernel_launcher.py:92: RuntimeWarning: invalid value encountered in double_scalars\n"
     ]
    },
    {
     "data": {
      "image/png": "[encoded data removed]",
      "text/plain": [
       "<Figure size 720x720 with 1 Axes>"
      ]
     },
     "metadata": {
      "needs_background": "light"
     },
     "output_type": "display_data"
    }
   ],
   "source": [
    "# Plot contribution to passenger spectrum from different s's\n",
    "log_freq=np.log(freq)\n",
    "\n",
    "plt.close('all')\n",
    "scale = 1.2\n",
    "fig, (ax1) = plt.subplots(1, 1, sharey=True, figsize=(10, 10))\n",
    "font = {'weight' : 'normal','size'   : 16}\n",
    "\n",
    "# s_vector = np.linspace(0, s_max_inferred, 100)\n",
    "s_vector = np.linspace(0, 0.5, 100)\n",
    "\n",
    "Product = [np.log(expected_density_hitchhiker_mutants_s_single(t, log_freq, s1, p_inferred, q_inferred, Bolton_468panel_mu*ratio_nonneutral, N_tau)) for s1 in s_vector]\n",
    "ax1.plot(s_vector, Product, c = grey3, lw = 4, label= 'total')\n",
    "\n",
    "\n",
    "\n",
    "# Set axis limits\n",
    "ax1.set_ylim(np.log(10**-20), np.log(3*10**4))\n",
    "# ax1.set_xlim(-9, 0)\n",
    "\n",
    "# # Axis labels\n",
    "axisfont=14*2\n",
    "axislabelfont=15*2\n",
    "\n",
    "ax1.set_xlabel('fitness (%)', fontsize = axislabelfont, labelpad = 6*1.2, fontweight = 'medium')\n",
    "ax1.set_ylabel('Contribution', fontsize = axislabelfont, labelpad = 6*1.2, fontweight = 'medium')\n",
    "\n",
    "x_major_ticks = np.linspace(0.01,0.5,50)\n",
    "x_major_tick_labels = [\"\", \"\",\"\",\"\",\"5\",\"\", \"\",\"\",\"\", \"10\",\"\", \"\",\"\",\"\",\"15\",\"\", \"\",\"\",\"\", \"20\",\"\", \"\",\"\",\"\", \"25\",\"\", \"\",\"\",\"\", \"30\"\\\n",
    "                       ,\"\", \"\",\"\",\"\", \"35\",\"\", \"\",\"\",\"\", \"40\",\"\", \"\",\"\",\"\", \"45\",\"\", \"\",\"\",\"\", \"50\"]\n",
    "ax1.set_xticks(x_major_ticks)\n",
    "ax1.set_xticklabels(x_major_tick_labels, fontsize = axisfont)\n",
    "ax1.xaxis.set_tick_params(width=scale, color = grey3, length = 6)\n",
    "\n",
    "y_major_ticks =[np.log(10**-20), np.log(10**4)]\n",
    "y_major_tick_labels = [\"$10^{-20}$\", \"$10^{4}$\"]\n",
    "ax1.set_yticks(y_major_ticks)\n",
    "ax1.set_yticklabels(y_major_tick_labels, fontsize = axisfont)\n",
    "ax1.yaxis.set_tick_params(width=scale, color = grey3, length = 6)\n",
    "# ax1.axvline(predominant_s_solution_A_C_only[0], color='black', linewidth=4, linestyle='--', zorder = 0)\n",
    "\n",
    "\n",
    "\n",
    "#Only show the required axis lines\n",
    "ax1.spines['top'].set_visible(False)\n",
    "ax1.spines['right'].set_visible(False)\n",
    "\n",
    "for axis in ['bottom','left']:\n",
    "    ax1.spines[axis].set_linewidth(1.5)\n",
    "\n",
    "for axis in ['bottom','left']:\n",
    "    ax1.spines[axis].set_color(grey3)\n",
    "        \n",
    "ax1.set_title('Age 40', fontsize=20)\n"
   ]
  }
 ],
 "metadata": {
  "kernelspec": {
   "display_name": "Python 3",
   "language": "python",
   "name": "python3"
  },
  "language_info": {
   "codemirror_mode": {
    "name": "ipython",
    "version": 3
   },
   "file_extension": ".py",
   "mimetype": "text/x-python",
   "name": "python",
   "nbconvert_exporter": "python",
   "pygments_lexer": "ipython3",
   "version": "3.7.1"
  }
 },
 "nbformat": 4,
 "nbformat_minor": 2
}
