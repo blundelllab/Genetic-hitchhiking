{
 "cells": [
  {
   "cell_type": "markdown",
   "metadata": {},
   "source": [
    "## Import packages"
   ]
  },
  {
   "cell_type": "code",
   "execution_count": 1,
   "metadata": {
    "code_folding": [
     0
    ]
   },
   "outputs": [],
   "source": [
    "# imported packages\n",
    "import random\n",
    "import numpy as np\n",
    "import matplotlib\n",
    "import matplotlib.pyplot as plt\n",
    "import math\n",
    "import matplotlib.ticker as plticker\n",
    "from matplotlib.ticker import LinearLocator, FormatStrFormatter\n",
    "from matplotlib.patches import Polygon\n",
    "from matplotlib.patches import Patch\n",
    "from matplotlib.lines import Line2D\n",
    "from matplotlib import cm\n",
    "import scipy.special\n",
    "import scipy.integrate as it\n",
    "from scipy import integrate\n",
    "from scipy.interpolate import interp1d\n",
    "from scipy.stats import kde\n",
    "import copy\n",
    "import glob, os\n",
    "import re\n",
    "from sklearn import datasets, linear_model\n",
    "import pandas as pd\n",
    "from decimal import *\n",
    "from operator import itemgetter    \n",
    "from collections import OrderedDict\n",
    "import timeit\n"
   ]
  },
  {
   "cell_type": "code",
   "execution_count": 2,
   "metadata": {
    "code_folding": [
     0
    ]
   },
   "outputs": [],
   "source": [
    "# Lists of colors for plots\n",
    "c0 = (0.76, 0.76, 0.76)\n",
    "c1 = (1.00, 0.18, 0.33);\n",
    "c2 = (1.00, 0.23, 0.19);\n",
    "c3 = (1.00, 0.58, 0.00);\n",
    "c4 = (1.00, 0.80, 0.00);\n",
    "c5 = (0.30, 0.85, 0.39);\n",
    "c6 = (0.35, 0.78, 0.98);\n",
    "c7 = (0.20, 0.67, 0.86);\n",
    "c8 = (0.00, 0.48, 1.00);\n",
    "c9 = (0.35, 0.34, 0.84);\n",
    "c10 = (0.00, 0.31, 0.57);\n",
    "c11 = (0.12, 0.29, 0.69);\n",
    "c12 = (0.17, 0.17, 0.42);\n",
    "c13 = (1.00, 1.00, 1.00);\n",
    "c14 = (0.77, 0.04, 0.00);"
   ]
  },
  {
   "cell_type": "code",
   "execution_count": 3,
   "metadata": {
    "code_folding": [
     0
    ]
   },
   "outputs": [],
   "source": [
    "#define the colors from colorbrewer2\n",
    "orange1 = '#feedde'\n",
    "orange2 = '#fdbe85'\n",
    "orange3 = '#fd8d3c'\n",
    "orange4 = '#e6550d'\n",
    "orange5 = '#a63603'\n",
    "blue1 = '#eff3ff'\n",
    "blue2 = '#bdd7e7'\n",
    "blue3 = '#6baed6'\n",
    "blue4 = '#3182bd'\n",
    "blue5 = '#08519c'\n",
    "green1 = '#edf8e9'\n",
    "green2 = '#bae4b3'\n",
    "green3 = '#74c476'\n",
    "green4 = '#31a354'\n",
    "green5 = '#006d2c'\n",
    "grey1 = '#f7f7f7'\n",
    "grey2 = '#cccccc'\n",
    "grey3 = '#969696'\n",
    "grey4 = '#636363'\n",
    "grey5 = '#252525'\n",
    "purple1 = '#f2f0f7'\n",
    "purple2 = '#cbc9e2'\n",
    "purple3 = '#9e9ac8'\n",
    "purple4 = '#756bb1'\n",
    "purple5 = '#54278f'\n",
    "red1 = '#fee5d9'\n",
    "red2 = '#fcae91'\n",
    "red3 = '#fb6a4a'\n",
    "red4 = '#de2d26'\n",
    "red5 = '#a50f15'\n",
    "# yellow = '#ffffd4'"
   ]
  },
  {
   "cell_type": "code",
   "execution_count": 4,
   "metadata": {},
   "outputs": [],
   "source": [
    "axisfont=13\n",
    "titlefont=20\n",
    "subtitlefont = 15\n",
    "axislabelfont=15\n",
    "legendfont = 11\n",
    "tpfont = 12"
   ]
  },
  {
   "cell_type": "code",
   "execution_count": 5,
   "metadata": {},
   "outputs": [
    {
     "name": "stdout",
     "output_type": "stream",
     "text": [
      "Bolton_468panel_mu 0.0021655198297872344\n",
      "Bolton_468panel_non_syn_mu 0.0015514171914893617\n",
      "top_10_u 3.8e-05\n"
     ]
    }
   ],
   "source": [
    "Bolton_panel_size = 1139322  # bp\n",
    "non_syn_mu_per_bp = 1.3617021276595745e-09\n",
    "mu_per_bp = 1.9007092198581563e-09\n",
    "Bolton_468panel_mu = mu_per_bp*Bolton_panel_size\n",
    "Bolton_468panel_non_syn_mu = non_syn_mu_per_bp*Bolton_panel_size\n",
    "\n",
    "print('Bolton_468panel_mu', Bolton_468panel_mu)\n",
    "print('Bolton_468panel_non_syn_mu', Bolton_468panel_non_syn_mu)\n",
    "\n",
    "top_10_u = 3.8e-05\n",
    "print('top_10_u', top_10_u)"
   ]
  },
  {
   "cell_type": "markdown",
   "metadata": {},
   "source": [
    "# Import VAF data "
   ]
  },
  {
   "cell_type": "code",
   "execution_count": 6,
   "metadata": {
    "code_folding": []
   },
   "outputs": [
    {
     "name": "stdout",
     "output_type": "stream",
     "text": [
      "Number of unique untreated patients 590\n"
     ]
    }
   ],
   "source": [
    "# setting up Bolton untreated patients ID dictionary\n",
    "import csv\n",
    "filename=\"CH_Silent_calls.csv\"\n",
    "\n",
    "list_of_untreated_patients_ages = []\n",
    "Patient_dictionary = {}\n",
    "Untreated_patients_dictionary = {}\n",
    "\n",
    "with open(filename, 'r') as csvfile:\n",
    "    read_reader = csv.DictReader(csvfile)  #csv.reader returns a reader object which will iterate over lines in the csvfile\n",
    "    row_count=0\n",
    "\n",
    "    for row in read_reader:\n",
    "        patient_id = row['DMP_PATIENT_ID']\n",
    "        gene_name = row['Gene']\n",
    "        treatment_status = str(row['therapy_binary'])\n",
    "        mutation_type = row['VariantClass']\n",
    "        age = row['age']\n",
    "\n",
    "        if treatment_status == 'untreated' and patient_id not in Untreated_patients_dictionary.keys():\n",
    "            Untreated_patients_dictionary[patient_id]=0\n",
    "            list_of_untreated_patients_ages.append(age)\n",
    "\n",
    "print('Number of unique untreated patients', len(Untreated_patients_dictionary.keys()))\n",
    "\n",
    "list_of_Bolton_ages = []\n",
    "for age in list_of_untreated_patients_ages:\n",
    "    list_of_Bolton_ages.append(float(age))\n",
    "    "
   ]
  },
  {
   "cell_type": "code",
   "execution_count": 7,
   "metadata": {
    "code_folding": [
     0
    ]
   },
   "outputs": [
    {
     "name": "stdout",
     "output_type": "stream",
     "text": [
      "patient P-0001766 was sequenced on different panels ['v3', 'v6']\n",
      "patient P-0001766 was sequenced on different panels ['v3', 'v6', 'v6']\n",
      "patient P-0013820 was sequenced on different panels ['v5', 'v6']\n",
      "Number of untreated patients with any CH mutations 590\n",
      "panel_version_possibilities ['v3', 'v5', 'v6']\n",
      "Number of untreated patients on the biggest panel 399\n"
     ]
    }
   ],
   "source": [
    "# import Bolton nonsynonymous variant data\n",
    "import csv\n",
    "filename=\"All_CH_mutations_for_jamie.csv\"\n",
    "\n",
    "Patient_dictionary = {}\n",
    "panel_version_possibilities = []\n",
    "with open(filename, 'r') as csvfile:\n",
    "    read_reader = csv.DictReader(csvfile)  #csv.reader returns a reader object which will iterate over lines in the csvfile\n",
    "    row_count=0\n",
    "\n",
    "    for row in read_reader:\n",
    "        patient_id = row['DMP_PATIENT_ID']\n",
    "        gene_name = row['Gene']\n",
    "        panel_version = row['Version']\n",
    "        mutation_type = row['VariantClass']\n",
    "        VAF = float(row['N_AltFreq'])\n",
    "                 \n",
    "            \n",
    "        if panel_version not in panel_version_possibilities:\n",
    "            panel_version_possibilities.append(panel_version)\n",
    "        \n",
    "        if patient_id in Untreated_patients_dictionary.keys():\n",
    "#             if panel_version == 'v3' and gene_name not in genes_on_panel_341_genes:\n",
    "#                 print('v3 not 341-gene-panel', patient_id, 'gene:', gene_name)\n",
    "                \n",
    "#             if panel_version == 'v5' and gene_name not in genes_on_panel_410_genes:\n",
    "#                 print('v5 not 410-gene-panel', patient_id, 'gene:', gene_name)\n",
    "                \n",
    "#             if panel_version == 'v6' and gene_name not in genes_on_panel_468_genes:\n",
    "#                 print('v6 not 468-gene-panel', patient_id, 'gene:', gene_name)\n",
    "            \n",
    "            if patient_id not in Patient_dictionary.keys():\n",
    "                Patient_dictionary[patient_id] = [panel_version]\n",
    "            else:\n",
    "                if panel_version != Patient_dictionary[patient_id][0]:\n",
    "                    \n",
    "                    tmp=Patient_dictionary[patient_id]\n",
    "                    tmp.append(panel_version)\n",
    "                    Patient_dictionary[patient_id] = tmp\n",
    "                    print('patient', patient_id,'was sequenced on different panels', Patient_dictionary[patient_id])\n",
    "\n",
    "print('Number of untreated patients with any CH mutations', len(Patient_dictionary.keys()))\n",
    "print('panel_version_possibilities', panel_version_possibilities)\n",
    "\n",
    "# assigning the largest panel to patients sequenced on more than one panel\n",
    "if patient_id == 'P-0001766':\n",
    "    Patient_dictionary[patient_id]=['v6']\n",
    "if patient_id == 'P-0013820':\n",
    "    Patient_dictionary[patient_id]=['v6']\n",
    "\n",
    "Boltontotal_panel_c = 0\n",
    "for patient_id, list_of_panel_version in Patient_dictionary.items():\n",
    "    if list_of_panel_version[0] == 'v6':\n",
    "        Boltontotal_panel_c = Boltontotal_panel_c + 1\n",
    "print('Number of untreated patients on the biggest panel', Boltontotal_panel_c)"
   ]
  },
  {
   "cell_type": "code",
   "execution_count": 8,
   "metadata": {
    "code_folding": [
     0,
     7
    ]
   },
   "outputs": [
    {
     "name": "stdout",
     "output_type": "stream",
     "text": [
      "399\n"
     ]
    }
   ],
   "source": [
    "# import ages\n",
    "import csv\n",
    "filename=\"CH_Silent_calls.csv\"\n",
    "\n",
    "list_of_Bolton_ages_largest_panel = []\n",
    "dict_of_Bolton_ages_largest_panel = {}\n",
    "\n",
    "with open(filename, 'r') as csvfile:\n",
    "    read_reader = csv.DictReader(csvfile)  #csv.reader returns a reader object which will iterate over lines in the csvfile\n",
    "    row_count=0\n",
    "\n",
    "    for row in read_reader:\n",
    "        patient_id = row['DMP_PATIENT_ID']\n",
    "        gene_name = row['Gene']\n",
    "        treatment_status = str(row['therapy_binary'])\n",
    "        mutation_type = row['VariantClass']\n",
    "        age = row['age']\n",
    "        \n",
    "        if treatment_status == 'untreated':\n",
    "        \n",
    "            if Patient_dictionary[patient_id] == ['v6']:\n",
    "\n",
    "                dict_of_Bolton_ages_largest_panel[patient_id]=age\n",
    "\n",
    "\n",
    "list_of_Bolton_ages_largest_panel = []\n",
    "for age in dict_of_Bolton_ages_largest_panel.values():\n",
    "    list_of_Bolton_ages_largest_panel.append(float(age))\n",
    "    \n",
    "print(len(list_of_Bolton_ages_largest_panel))"
   ]
  },
  {
   "cell_type": "code",
   "execution_count": 9,
   "metadata": {
    "code_folding": [
     0
    ]
   },
   "outputs": [
    {
     "name": "stdout",
     "output_type": "stream",
     "text": [
      "There are 269 nonsynonymous variants in any genes in patients sequenced on biggest panel\n",
      "There are 135 variants in the ten CH genes in any panel\n",
      "There are 73 variants in DNMT3A in any panel\n",
      "There are 11 variants in DNMT3A R882 in any panel\n"
     ]
    }
   ],
   "source": [
    "# import all468 nonsynonymous data and ten CH gene data\n",
    "import csv\n",
    "filename=\"All_CH_mutations_for_jamie.csv\"\n",
    "\n",
    "all468_gene_non_syn_data = []\n",
    "ten_CH_gene_data = []\n",
    "DNMT3A_data = []\n",
    "DNMT3A_R882_data = []\n",
    "ten_CH_gene_list = ['DNMT3A','TET2','ASXL1','JAK2','TP53','SF3B1','KRAS','CBL','SRSF2','IDH2']\n",
    "with open(filename, 'r') as csvfile:\n",
    "    read_reader = csv.DictReader(csvfile)  #csv.reader returns a reader object which will iterate over lines in the csvfile\n",
    "    row_count=0\n",
    "\n",
    "    for row in read_reader:\n",
    "        patient_id = row['DMP_PATIENT_ID']\n",
    "        gene_name = row['Gene']\n",
    "        panel_version = row['Version']\n",
    "        mutation_type = row['VariantClass']\n",
    "        VAF = float(row['N_AltFreq'])\n",
    "        aa_change = row['AAchange'] \n",
    "        \n",
    "        row_count = row_count + 1\n",
    "        \n",
    "        if patient_id in Untreated_patients_dictionary.keys():\n",
    "            \n",
    "            if mutation_type =='Missense_Mutation' or mutation_type =='Nonsense_Mutation':\n",
    "                \n",
    "                if Patient_dictionary[patient_id][0] == 'v6':\n",
    "                    all468_gene_non_syn_data.append(VAF)\n",
    "                \n",
    "                if gene_name in ten_CH_gene_list:\n",
    "                    ten_CH_gene_data.append(VAF)\n",
    "                    \n",
    "                if gene_name == 'DNMT3A':\n",
    "                    DNMT3A_data.append(VAF)\n",
    "                    \n",
    "                    if 'p.R882' in aa_change:\n",
    "                        DNMT3A_R882_data.append(VAF)\n",
    "\n",
    "print('There are', len(all468_gene_non_syn_data),'nonsynonymous variants in any genes in patients sequenced on biggest panel')\n",
    "print('There are', len(ten_CH_gene_data),'variants in the ten CH genes in any panel')\n",
    "print('There are', len(DNMT3A_data),'variants in DNMT3A in any panel')\n",
    "print('There are', len(DNMT3A_R882_data),'variants in DNMT3A R882 in any panel')\n",
    "\n",
    "\n"
   ]
  },
  {
   "cell_type": "code",
   "execution_count": 10,
   "metadata": {
    "code_folding": [
     0
    ]
   },
   "outputs": [],
   "source": [
    "# non_syn_in_any_gene_tally = {}\n",
    "# for gene in all_non_syn_data:\n",
    "#     if gene not in non_syn_in_any_gene_tally.keys():\n",
    "#         non_syn_in_any_gene_tally[gene] = 1\n",
    "#     else:\n",
    "#         tmp = non_syn_in_any_gene_tally[gene]\n",
    "#         tmp = tmp + 1\n",
    "#         non_syn_in_any_gene_tally[gene] = tmp\n",
    "        \n",
    "# for gene, tally in non_syn_in_any_gene_tally.items():\n",
    "#     if tally > 2:\n",
    "#         print('gene', gene, 'tally:', tally)\n",
    "\n",
    "# TET2 tally: 27*\n",
    "# gene DNMT3A tally: 73*\n",
    "# gene PPM1D tally: 13\n",
    "# gene JAK2 tally: 5*\n",
    "# gene SRSF2 tally: 5*\n",
    "# gene U2AF1 tally: 5\n",
    "# gene TP53 tally: 5*\n",
    "# gene ASXL1 tally: 7*\n",
    "# gene APC tally: 3\n",
    "# gene PTPRS tally: 4\n",
    "# gene SF3B1 tally: 10*\n",
    "# gene ATM tally: 11\n",
    "# gene PBRM1 tally: 3\n",
    "# gene EGFR tally: 3\n",
    "# gene PTPRT tally: 3\n",
    "# gene RAD21 tally: 3\n",
    "# gene CTCF tally: 3\n",
    "# gene MGA tally: 3\n",
    "# gene CBL tally: 3*\n",
    "# gene DNMT3B tally: 3\n",
    "# gene SH2B3 tally: 5\n",
    "# gene GRIN2A tally: 4\n",
    "# gene HLA-B tally: 3"
   ]
  },
  {
   "cell_type": "code",
   "execution_count": 11,
   "metadata": {
    "code_folding": [
     0
    ]
   },
   "outputs": [
    {
     "name": "stdout",
     "output_type": "stream",
     "text": [
      "There are 177 variants in the 16 CH genes\n",
      "There are 204 variants in the 25 CH genes\n"
     ]
    }
   ],
   "source": [
    "# import sixteen CH gene data\n",
    "import csv\n",
    "filename=\"All_CH_mutations_for_jamie.csv\"\n",
    "\n",
    "all_non_syn_data = []\n",
    "sixteen_CH_gene_data = []\n",
    "twentyfive_CH_gene_data = []\n",
    "sixteen_CH_gene_list = ['DNMT3A','TET2','ASXL1','JAK2','TP53','SF3B1','KRAS','CBL','SRSF2','IDH2',\\\n",
    "                       'PPM1D','U2AF1','PTPRS','ATM','SH2B3','GRIN2A']\n",
    "twentyfive_CH_gene_list = ['DNMT3A','TET2','ASXL1','JAK2','TP53','SF3B1','KRAS','CBL','SRSF2','IDH2',\\\n",
    "                       'PPM1D','U2AF1','PTPRS','ATM','SH2B3','GRIN2A','APC','DNMT3B','HLA-B','PBRM1',\\\n",
    "                          'EGFR','PTPRT','RAD21','CTCF','MGA']\n",
    "\n",
    "with open(filename, 'r') as csvfile:\n",
    "    read_reader = csv.DictReader(csvfile)  #csv.reader returns a reader object which will iterate over lines in the csvfile\n",
    "    row_count=0\n",
    "\n",
    "    for row in read_reader:\n",
    "        patient_id = row['DMP_PATIENT_ID']\n",
    "        gene_name = row['Gene']\n",
    "        panel_version = row['Version']\n",
    "        mutation_type = row['VariantClass']\n",
    "        VAF = float(row['N_AltFreq'])\n",
    "        \n",
    "        row_count = row_count + 1\n",
    "        \n",
    "        if patient_id in Untreated_patients_dictionary.keys():\n",
    "            \n",
    "            if mutation_type =='Missense_Mutation' or mutation_type =='Nonsense_Mutation':\n",
    "                \n",
    "#                 all_non_syn_data.append(gene_name)\n",
    "                \n",
    "                if gene_name in sixteen_CH_gene_list:\n",
    "                    sixteen_CH_gene_data.append(VAF)\n",
    "                if gene_name in twentyfive_CH_gene_list:\n",
    "                    twentyfive_CH_gene_data.append(VAF)\n",
    "                    \n",
    "\n",
    "print('There are', len(sixteen_CH_gene_data),'variants in the 16 CH genes')\n",
    "print('There are', len(twentyfive_CH_gene_data),'variants in the 25 CH genes')\n"
   ]
  },
  {
   "cell_type": "code",
   "execution_count": 12,
   "metadata": {
    "code_folding": [
     0
    ]
   },
   "outputs": [
    {
     "name": "stdout",
     "output_type": "stream",
     "text": [
      "top_20_common_variants gene DNMT3A aa change: p.R882H patient_id P-0006169\n",
      "top_20_common_variants gene DNMT3A aa change: p.R882C patient_id P-0014639\n",
      "top_20_common_variants gene DNMT3A aa change: p.R326C patient_id P-0016339\n",
      "top_20_common_variants gene JAK2 aa change: p.V617F patient_id P-0017979\n",
      "top_20_common_variants gene DNMT3A aa change: p.R729W patient_id P-0018895\n",
      "top_20_common_variants gene DNMT3A aa change: p.R882C patient_id P-0019231\n",
      "top_20_common_variants gene SRSF2 aa change: p.P95H patient_id P-0019301\n",
      "top_20_common_variants gene DNMT3A aa change: p.R736H patient_id P-0019980\n",
      "top_20_common_variants gene DNMT3A aa change: p.R882C patient_id P-0021778\n",
      "top_20_common_variants gene DNMT3A aa change: p.R882H patient_id P-0021872\n",
      "top_20_common_variants gene DNMT3A aa change: p.Y735C patient_id P-0022378\n",
      "top_20_common_variants gene DNMT3A aa change: p.P904L patient_id P-0022439\n",
      "top_20_common_variants gene JAK2 aa change: p.V617F patient_id P-0022687\n",
      "top_20_common_variants gene DNMT3A aa change: p.R882C patient_id P-0022813\n",
      "top_20_common_variants gene DNMT3A aa change: p.R326C patient_id P-0023087\n",
      "top_20_common_variants gene DNMT3A aa change: p.Y735C patient_id P-0024199\n",
      "top_20_common_variants gene DNMT3A aa change: p.R882H patient_id P-0025143\n",
      "top_20_common_variants gene SRSF2 aa change: p.P95L patient_id P-0024538\n",
      "top_20_common_variants gene DNMT3A aa change: p.Y735C patient_id P-0027420\n",
      "top_20_common_variants gene SRSF2 aa change: p.P95H patient_id P-0030317\n",
      "top_20_common_variants gene DNMT3A aa change: p.R882C patient_id P-0030378\n",
      "There are 21 in untreated patients.\n",
      "There are possibly 67 in untreated patients.\n"
     ]
    }
   ],
   "source": [
    "# import 20 common nonsyn in CH \n",
    "import csv\n",
    "filename=\"All_CH_mutations_for_jamie.csv\"\n",
    "\n",
    "# top 20 common variants\n",
    "n = 0\n",
    "num_top_20_common_variants=0\n",
    "top_20_common_variants_list={}\n",
    "num_llumina_panel_mutations=0\n",
    "\n",
    "top_20_common_variants_list['DNMT3A']=['Arg882Cys', 'Arg729Trp', 'Arg326Cys', 'Arg320*', 'Arg882His', 'Arg736His', 'Tyr735Cys',\\\n",
    "                                       'Arg736Cys','Trp860Arg', 'Arg771*', 'Arg598*', 'Pro904Leu',\\\n",
    "                                      'R882C', 'R729W', 'R326C', 'R320*', 'R882H', 'R736H', 'Y735C',\\\n",
    "                                       'R736C','W860R', 'R771*', 'R598*', 'P904L']\n",
    "top_20_common_variants_list['SRSF2']=['Pro95Arg', 'Pro95His', 'Pro95Leu',\\\n",
    "                                     'P95R', 'P95H', 'P95L']\n",
    "top_20_common_variants_list['SF3B1']=['Lys700Glu', 'Lys666Asn',\\\n",
    "                                     'L700E', 'L666N']\n",
    "top_20_common_variants_list['GNB1']=['Lys57Glu',\\\n",
    "                                    'L57E']\n",
    "top_20_common_variants_list['JAK2']=['Val617Phe',\\\n",
    "                                    'V617F']\n",
    "top_20_common_variants_list['IDH2']=['Arg140Gln',\\\n",
    "                                    'R140Q']\n",
    "list_20_top_variants = []\n",
    "with open(filename, 'r') as csvfile:\n",
    "    read_reader = csv.DictReader(csvfile)  #csv.reader returns a reader object which will iterate over lines in the csvfile\n",
    "    row_count=0\n",
    "\n",
    "    for row in read_reader:\n",
    "        patient_id = row['DMP_PATIENT_ID']\n",
    "        gene_name = row['Gene']\n",
    "        panel_version = row['Version']\n",
    "        mutation_type = row['VariantClass']\n",
    "        VAF = float(row['N_AltFreq'])\n",
    "        AA_change = str(row['AAchange'])\n",
    "        \n",
    "        row_count = row_count + 1\n",
    "        \n",
    "        if patient_id in Untreated_patients_dictionary.keys():\n",
    "            \n",
    "            list_of_panel_version = Patient_dictionary[patient_id]\n",
    "            if list_of_panel_version[0] == 'v6':\n",
    "                \n",
    "                if mutation_type =='Missense_Mutation' or mutation_type =='Nonsense_Mutation':\n",
    "\n",
    "    #                 all_non_syn_data.append(gene_name)\n",
    "\n",
    "                    if gene_name in top_20_common_variants_list.keys():\n",
    "    #                     print(gene_name)\n",
    "                        n = n + 1\n",
    "                        variants_in_this_gene = top_20_common_variants_list[gene_name]\n",
    "\n",
    "                        for i in variants_in_this_gene:\n",
    "\n",
    "                            if i in AA_change:\n",
    "                                print('top_20_common_variants gene', gene_name, 'aa change:', AA_change, 'patient_id', patient_id)\n",
    "        #                                 list_top_20_common_variants_vaf.append(vaf)\n",
    "                                num_top_20_common_variants = num_top_20_common_variants + 1\n",
    "                                list_20_top_variants.append(VAF)\n",
    "\n",
    "print('There are', num_top_20_common_variants, 'in untreated patients.')\n",
    "print('There are possibly', n, 'in untreated patients.')"
   ]
  },
  {
   "cell_type": "markdown",
   "metadata": {},
   "source": [
    "## Functions for plotting histograms"
   ]
  },
  {
   "cell_type": "code",
   "execution_count": 13,
   "metadata": {},
   "outputs": [],
   "source": [
    "binmethod = 'doane'"
   ]
  },
  {
   "cell_type": "code",
   "execution_count": 14,
   "metadata": {
    "code_folding": [
     0
    ]
   },
   "outputs": [],
   "source": [
    "def error_bars(hist, normed_value, widths):\n",
    "    \n",
    "    errors={}\n",
    "    n=0\n",
    "    for i in list(hist):\n",
    "        normalised_hist = i/(normed_value*widths)\n",
    "        log_hist = np.log(normalised_hist)\n",
    "        sqrt_hist = math.sqrt(i)\n",
    "        if sqrt_hist == 1:\n",
    "            upper_error = 1\n",
    "            lower_error = 0.9\n",
    "        if sqrt_hist !=1:\n",
    "            upper_error = sqrt_hist\n",
    "            lower_error = sqrt_hist\n",
    "        normalised_upper_error = upper_error/(normed_value*widths)\n",
    "        normalised_lower_error = lower_error/(normed_value*widths)\n",
    "        errors[n]=(normalised_hist[0], normalised_upper_error[0], normalised_lower_error[0])\n",
    "        n = n+1\n",
    "\n",
    "    errors_corrected ={}\n",
    "    for k, v in errors.items():\n",
    "        binheight = v[0]\n",
    "        log_binheight = np.log(v[0])\n",
    "        upper_error = v[1]\n",
    "        lower_error = v[2]\n",
    "        log_upper_error = (np.log(upper_error+binheight))-log_binheight\n",
    "        log_lower_error = log_binheight-(np.log(binheight-lower_error))\n",
    "        errors_corrected[k] = (log_binheight, log_upper_error, log_lower_error)\n",
    "\n",
    "    lower_err=[]\n",
    "    upper_err=[]\n",
    "    for k, v in errors_corrected.items():\n",
    "        lower_error = v[2]\n",
    "        upper_error = v[1]\n",
    "        lower_err.append(lower_error)\n",
    "        upper_err.append(upper_error)\n",
    "\n",
    "    err = [tuple(lower_err),tuple(upper_err)]\n",
    "    \n",
    "    return err"
   ]
  },
  {
   "cell_type": "code",
   "execution_count": 15,
   "metadata": {
    "code_folding": [
     0
    ]
   },
   "outputs": [],
   "source": [
    "def log_hist_data_for_plot(study_VAFs, study_total, study_mu, bin_size):\n",
    "    log_VAFs = []\n",
    "    for i in study_VAFs:\n",
    "        log_VAFs.append(np.log(float(i)))\n",
    "    normed_value = study_total*2*study_mu\n",
    "#     bin_size = int((max(log_VAFs)-min(log_VAFs))/(1/((len(log_VAFs))**(1/3))))\n",
    "    hist, bins = np.histogram(log_VAFs, bins=bin_size, range=(min(log_VAFs),max(log_VAFs)))\n",
    "    widths = np.diff(bins)\n",
    "    bin_centres = (bins[:-1] + bins[1:])/2\n",
    "    hist = np.array(hist, dtype=float)\n",
    "    normalised_hist = hist/(normed_value*widths)\n",
    "    log_hist_for_plot = np.log(normalised_hist)\n",
    "    \n",
    "    errors = error_bars(hist, normed_value, widths)\n",
    "    \n",
    "    return bin_centres, log_hist_for_plot, errors"
   ]
  },
  {
   "cell_type": "code",
   "execution_count": 16,
   "metadata": {
    "code_folding": [
     0,
     116,
     233
    ]
   },
   "outputs": [],
   "source": [
    "def plot_log_hist_data_for_plot_solid_smaller(study_VAFs, study_total, study_mu, bin_size, study_name, marker_name, marker_size, color):\n",
    "    log_VAFs = []\n",
    "    for i in study_VAFs:\n",
    "        log_VAFs.append(np.log(float(i)))\n",
    "    normed_value = study_total*2*study_mu\n",
    "    hist, bins = np.histogram(log_VAFs, bins=bin_size, range=(min(log_VAFs),max(log_VAFs)))\n",
    "    widths = np.diff(bins)\n",
    "    bin_centres = (bins[:-1] + bins[1:])/2\n",
    "    hist = np.array(hist, dtype=float)\n",
    "    normalised_hist = hist/(normed_value*widths)\n",
    "    log_hist_for_plot = np.log(normalised_hist)\n",
    "    \n",
    "    errors = error_bars(hist, normed_value, widths)\n",
    "    \n",
    "    axisfont=14*scale\n",
    "    axislabelfont=15*scale\n",
    "    tpfont = 14*scale\n",
    "\n",
    "    m_size = 12*scale\n",
    "    m_width = 1.5*scale\n",
    "    c_size = 3*scale\n",
    "    c_thick = 1.5*scale\n",
    "    e_width = 1.5*scale\n",
    "\n",
    "    Jaiswalmarker = 'o'\n",
    "    Zinkmarker = '^'\n",
    "    Acunamarker = 'P'\n",
    "    Coombsmarker = 'v'\n",
    "    Youngmarker = 'p'\n",
    "    Mckerrelmarker = 'D'\n",
    "    Genovesemarker = 'd'\n",
    "    Desaimarker = '*'\n",
    "\n",
    "    #Colors\n",
    "    DNMT3A_color = 'dodgerblue'\n",
    "    R882_color = c1\n",
    "    neutralcolor = c3\n",
    "    \n",
    "    #Plot\n",
    "    ax1.errorbar(bin_centres, log_hist_for_plot, yerr= errors, fmt = marker_name, ecolor = grey5, \\\n",
    "             elinewidth = e_width, capsize = c_size, capthick = c_thick, markersize = marker_size, markeredgewidth = m_width, \\\n",
    "             markeredgecolor = grey5, markerfacecolor = color, label = study_name, zorder=0)\n",
    "    \n",
    "    # Set axis limits\n",
    "    ax1.set_ylim(1, 14)\n",
    "    ax1.set_xlim(-9, 0)\n",
    "    # ax1.set_xlim(-7.6, 0)\n",
    "\n",
    "    # Axis labels\n",
    "    ax1.set_xlabel('variant allele frequency (%)', fontsize = axislabelfont*1.2, labelpad = 6*scale, fontweight = 'medium')\n",
    "    ax1.set_ylabel('rescaled density', fontsize = axislabelfont*1.2, labelpad = 6*scale, fontweight = 'medium')\n",
    "\n",
    "    x_major_ticks = [np.log(0.0001),np.log(0.0002),np.log(0.0003),np.log(0.0004),np.log(0.0005),np.log(0.0006),np.log(0.0007),np.log(0.0008), np.log(0.0009),\\\n",
    "                     np.log(0.001), np.log(0.002),np.log(0.003),np.log(0.004),np.log(0.005),np.log(0.006),np.log(0.007),np.log(0.008),np.log(0.009), \\\n",
    "                     np.log(0.01),np.log(0.02),np.log(0.03),np.log(0.04),np.log(0.05),np.log(0.06),np.log(0.07),np.log(0.08),np.log(0.09),\\\n",
    "                     np.log(0.1),np.log(0.2),np.log(0.3),np.log(0.4),np.log(0.5),np.log(0.6),np.log(0.7),np.log(0.8),np.log(0.9), np.log(1.0)]\n",
    "    x_major_tick_labels = [\"0.01\",\"\",\"\",\"\",\"\",\"\",\"\",\"\",\"\",\\\n",
    "                           \"0.1\",\"\",\"\",\"\",\"\",\"\",\"\",\"\",\"\",\\\n",
    "                           \"1\",\"\",\"\",\"\",\"\",\"\",\"\",\"\",\"\",\\\n",
    "                           \"10\",\"\",\"\",\"\",\"50\",\"\",\"\",\"\",\"\",\"\"]\n",
    "    ax1.set_xticks(x_major_ticks)\n",
    "    ax1.set_xticklabels(x_major_tick_labels, fontsize = axisfont)\n",
    "    ax1.xaxis.set_tick_params(width=scale, color = grey3, length = 6)\n",
    "\n",
    "    y_major_ticks = [np.log(0.1), np.log(0.2), np.log(0.3), \\\n",
    "                     np.log(0.4), np.log(0.5), np.log(0.6), \\\n",
    "                     np.log(0.7), np.log(0.8), np.log(0.9), \\\n",
    "                     np.log(1), np.log(2), np.log(3), \\\n",
    "                     np.log(4), np.log(5), np.log(6), \\\n",
    "                     np.log(7), np.log(8), np.log(9), \\\n",
    "                     np.log(10), np.log(20), np.log(30),\\\n",
    "                     np.log(40), np.log(50), np.log(60), \\\n",
    "                     np.log(70), np.log(80), np.log(90),\\\n",
    "                     np.log(100), np.log(200), np.log(300), \\\n",
    "                     np.log(400), np.log(500), np.log(600),\\\n",
    "                     np.log(700), np.log(800), np.log(900), \\\n",
    "                     np.log(1000), np.log(2000), np.log(3000),\\\n",
    "                    np.log(4000), np.log(5000), np.log(6000), \\\n",
    "                     np.log(7000), np.log(8000), np.log(9000),\\\n",
    "                    np.log(10000), np.log(20000), np.log(30000), \\\n",
    "                     np.log(40000), np.log(50000), np.log(60000),\\\n",
    "                    np.log(70000), np.log(80000), np.log(90000), \\\n",
    "                     np.log(100000), np.log(200000),np.log(300000),np.log(400000),np.log(500000),np.log(600000),\\\n",
    "                    np.log(700000),np.log(800000),np.log(900000),np.log(1000000),]\n",
    "    y_major_tick_labels = [\"\",\"\",\"\", \"\", \"\", \"\", \"\", \"\", \"\", \"$10^{0}$\"\\\n",
    "                           \"\",\"\", \"\", \"\", \"\", \"\", \"\", \"\", \"$10^{1}$\",\"\", \"\", \"\", \"\", \"\", \"\", \"\", \"\", \\\n",
    "                           \"$10^{2}$\",\"\", \"\", \"\", \"\", \"\", \"\", \"\", \"\", \"$10^{3}$\",\"\", \"\", \"\", \"\", \"\", \"\", \"\", \"\", \\\n",
    "                           \"$10^{4}$\",\"\", \"\", \"\", \"\", \"\", \"\", \"\", \"\", \"$10^{5}$\",\"\", \"\", \"\", \"\", \"\", \"\", \"\", \"\", \"$10^{6}$\"]\n",
    "    ax1.set_yticks(y_major_ticks)\n",
    "    ax1.set_yticklabels(y_major_tick_labels, fontsize = axisfont)\n",
    "    ax1.yaxis.set_tick_params(width=scale, color = grey3, length = 6)\n",
    "\n",
    "    #Only show the required axis lines\n",
    "    ax1.spines['top'].set_visible(False)\n",
    "    ax1.spines['right'].set_visible(False)\n",
    "\n",
    "    for axis in ['bottom','left']:\n",
    "        ax1.spines[axis].set_linewidth(scale)\n",
    "\n",
    "    for axis in ['bottom','left']:\n",
    "        ax1.spines[axis].set_color(grey3)\n",
    "        \n",
    "    \n",
    "    #set panel legends\n",
    "    legend_marker_size = 8*scale\n",
    "#     legend_elements = [Line2D([0], [0], marker = Coombsmarker, color=grey3, alpha=0.4, markersize = legend_marker_size*1.2, \\\n",
    "#                               lw=0, label='Coombs 2017'),\n",
    "#                       Line2D([0], [0], marker = Youngmarker, color=grey3, alpha=0.4, markersize = legend_marker_size*1.2, \\\n",
    "#                               lw=0, label='Young 2016 & 2019'),\n",
    "#                        Line2D([0], [0], marker = Desaimarker, color=grey3, alpha=0.4, markersize = legend_marker_size*1.5, \\\n",
    "#                               lw=0, label='Desai 2018')]\n",
    "\n",
    "#     ax1.legend(ncol=1, handles=legend_elements, loc='center', bbox_to_anchor=(0.12, 0.12), frameon=0, fontsize = 11*scale)\n",
    "    \n",
    "    return ax1\n",
    "\n",
    "def plot_log_hist_data_for_plot_solid_larger(study_VAFs, study_total, study_mu, bin_size, study_name, marker_name, marker_size, color, scale):\n",
    "    log_VAFs = []\n",
    "    for i in study_VAFs:\n",
    "        log_VAFs.append(np.log(float(i)))\n",
    "    normed_value = study_total*2*study_mu\n",
    "    hist, bins = np.histogram(log_VAFs, bins=bin_size, range=(min(log_VAFs),max(log_VAFs)))\n",
    "    widths = np.diff(bins)\n",
    "    bin_centres = (bins[:-1] + bins[1:])/2\n",
    "    hist = np.array(hist, dtype=float)\n",
    "    normalised_hist = hist/(normed_value*widths)\n",
    "    log_hist_for_plot = np.log(normalised_hist)\n",
    "    \n",
    "    errors = error_bars(hist, normed_value, widths)\n",
    "    \n",
    "    axisfont=14*scale\n",
    "    axislabelfont=15*scale\n",
    "    tpfont = 14*scale\n",
    "\n",
    "    m_size = 12*scale\n",
    "    m_width = 1.5*scale\n",
    "    c_size = 3*scale\n",
    "    c_thick = 1.5*scale\n",
    "    e_width = 1.5*scale\n",
    "\n",
    "    Jaiswalmarker = 'o'\n",
    "    Zinkmarker = '^'\n",
    "    Acunamarker = 'P'\n",
    "    Coombsmarker = 'v'\n",
    "    Youngmarker = 'p'\n",
    "    Mckerrelmarker = 'D'\n",
    "    Genovesemarker = 'd'\n",
    "    Desaimarker = '*'\n",
    "\n",
    "    #Colors\n",
    "    DNMT3A_color = 'dodgerblue'\n",
    "    R882_color = c1\n",
    "    neutralcolor = c3\n",
    "    \n",
    "    #Plot\n",
    "    ax1.errorbar(bin_centres, log_hist_for_plot, yerr= errors, fmt = marker_name, ecolor = grey5, \\\n",
    "             elinewidth = e_width, capsize = c_size, capthick = c_thick, markersize = marker_size, markeredgewidth = m_width, \\\n",
    "             markeredgecolor = grey5, markerfacecolor = color, label = study_name, zorder=0)\n",
    "    \n",
    "    # Set axis limits\n",
    "    ax1.set_ylim(1, 14)\n",
    "    ax1.set_xlim(-9, 0)\n",
    "    # ax1.set_xlim(-7.6, 0)\n",
    "\n",
    "    # Axis labels\n",
    "    ax1.set_xlabel('variant allele frequency (%)', fontsize = axislabelfont, labelpad = 6*scale, fontweight = 'medium')\n",
    "    ax1.set_ylabel('rescaled density', fontsize = axislabelfont, labelpad = 6*scale, fontweight = 'medium')\n",
    "\n",
    "    x_major_ticks = [np.log(0.0001),np.log(0.0002),np.log(0.0003),np.log(0.0004),np.log(0.0005),np.log(0.0006),np.log(0.0007),np.log(0.0008), np.log(0.0009),\\\n",
    "                     np.log(0.001), np.log(0.002),np.log(0.003),np.log(0.004),np.log(0.005),np.log(0.006),np.log(0.007),np.log(0.008),np.log(0.009), \\\n",
    "                     np.log(0.01),np.log(0.02),np.log(0.03),np.log(0.04),np.log(0.05),np.log(0.06),np.log(0.07),np.log(0.08),np.log(0.09),\\\n",
    "                     np.log(0.1),np.log(0.2),np.log(0.3),np.log(0.4),np.log(0.5),np.log(0.6),np.log(0.7),np.log(0.8),np.log(0.9), np.log(1.0)]\n",
    "    x_major_tick_labels = [\"0.01\",\"\",\"\",\"\",\"\",\"\",\"\",\"\",\"\",\\\n",
    "                           \"0.1\",\"\",\"\",\"\",\"\",\"\",\"\",\"\",\"\",\\\n",
    "                           \"1\",\"\",\"\",\"\",\"\",\"\",\"\",\"\",\"\",\\\n",
    "                           \"10\",\"\",\"\",\"\",\"50\",\"\",\"\",\"\",\"\",\"\"]\n",
    "    ax1.set_xticks(x_major_ticks)\n",
    "    ax1.set_xticklabels(x_major_tick_labels, fontsize = axisfont)\n",
    "    ax1.xaxis.set_tick_params(width=scale, color = grey3, length = 6)\n",
    "\n",
    "    y_major_ticks = [np.log(0.1), np.log(0.2), np.log(0.3), \\\n",
    "                     np.log(0.4), np.log(0.5), np.log(0.6), \\\n",
    "                     np.log(0.7), np.log(0.8), np.log(0.9), \\\n",
    "                     np.log(1), np.log(2), np.log(3), \\\n",
    "                     np.log(4), np.log(5), np.log(6), \\\n",
    "                     np.log(7), np.log(8), np.log(9), \\\n",
    "                     np.log(10), np.log(20), np.log(30),\\\n",
    "                     np.log(40), np.log(50), np.log(60), \\\n",
    "                     np.log(70), np.log(80), np.log(90),\\\n",
    "                     np.log(100), np.log(200), np.log(300), \\\n",
    "                     np.log(400), np.log(500), np.log(600),\\\n",
    "                     np.log(700), np.log(800), np.log(900), \\\n",
    "                     np.log(1000), np.log(2000), np.log(3000),\\\n",
    "                    np.log(4000), np.log(5000), np.log(6000), \\\n",
    "                     np.log(7000), np.log(8000), np.log(9000),\\\n",
    "                    np.log(10000), np.log(20000), np.log(30000), \\\n",
    "                     np.log(40000), np.log(50000), np.log(60000),\\\n",
    "                    np.log(70000), np.log(80000), np.log(90000), \\\n",
    "                     np.log(100000), np.log(200000),np.log(300000),np.log(400000),np.log(500000),np.log(600000),\\\n",
    "                    np.log(700000),np.log(800000),np.log(900000),np.log(1000000),]\n",
    "    y_major_tick_labels = [\"\",\"\",\"\", \"\", \"\", \"\", \"\", \"\", \"\", \"$10^{0}$\"\\\n",
    "                           \"\",\"\", \"\", \"\", \"\", \"\", \"\", \"\", \"$10^{1}$\",\"\", \"\", \"\", \"\", \"\", \"\", \"\", \"\", \\\n",
    "                           \"$10^{2}$\",\"\", \"\", \"\", \"\", \"\", \"\", \"\", \"\", \"$10^{3}$\",\"\", \"\", \"\", \"\", \"\", \"\", \"\", \"\", \\\n",
    "                           \"$10^{4}$\",\"\", \"\", \"\", \"\", \"\", \"\", \"\", \"\", \"$10^{5}$\",\"\", \"\", \"\", \"\", \"\", \"\", \"\", \"\", \"$10^{6}$\"]\n",
    "    ax1.set_yticks(y_major_ticks)\n",
    "    ax1.set_yticklabels(y_major_tick_labels, fontsize = axisfont)\n",
    "    ax1.yaxis.set_tick_params(width=scale, color = grey3, length = 6)\n",
    "\n",
    "    #Only show the required axis lines\n",
    "    ax1.spines['top'].set_visible(False)\n",
    "    ax1.spines['right'].set_visible(False)\n",
    "\n",
    "    for axis in ['bottom','left']:\n",
    "        ax1.spines[axis].set_linewidth(scale)\n",
    "\n",
    "    for axis in ['bottom','left']:\n",
    "        ax1.spines[axis].set_color(grey3)\n",
    "        \n",
    "    \n",
    "    #set panel legends\n",
    "    legend_marker_size = 8*scale\n",
    "#     legend_elements = [Line2D([0], [0], marker = Coombsmarker, color=grey3, alpha=0.4, markersize = legend_marker_size*1.2, \\\n",
    "#                               lw=0, label='Coombs 2017'),\n",
    "#                       Line2D([0], [0], marker = Youngmarker, color=grey3, alpha=0.4, markersize = legend_marker_size*1.2, \\\n",
    "#                               lw=0, label='Young 2016 & 2019'),\n",
    "#                        Line2D([0], [0], marker = Desaimarker, color=grey3, alpha=0.4, markersize = legend_marker_size*1.5, \\\n",
    "#                               lw=0, label='Desai 2018')]\n",
    "\n",
    "#     ax1.legend(ncol=1, handles=legend_elements, loc='center', bbox_to_anchor=(0.12, 0.12), frameon=0, fontsize = 11*scale)\n",
    "    \n",
    "    return ax1\n",
    "\n",
    "def plot_log_hist_data_for_plot_solid(study_VAFs, study_total, study_mu, bin_size, study_name, marker_name, marker_size, color):\n",
    "    log_VAFs = []\n",
    "    for i in study_VAFs:\n",
    "        log_VAFs.append(np.log(float(i)))\n",
    "    normed_value = study_total*2*study_mu\n",
    "    hist, bins = np.histogram(log_VAFs, bins=bin_size, range=(min(log_VAFs),max(log_VAFs)))\n",
    "    widths = np.diff(bins)\n",
    "    bin_centres = (bins[:-1] + bins[1:])/2\n",
    "    hist = np.array(hist, dtype=float)\n",
    "    normalised_hist = hist/(normed_value*widths)\n",
    "    log_hist_for_plot = np.log(normalised_hist)\n",
    "    \n",
    "    errors = error_bars(hist, normed_value, widths)\n",
    "    \n",
    "    axisfont=14*scale\n",
    "    axislabelfont=15*scale\n",
    "    tpfont = 14*scale\n",
    "\n",
    "    m_size = 12*scale\n",
    "    m_width = 1.5*scale\n",
    "    c_size = 3*scale\n",
    "    c_thick = 1.5*scale\n",
    "    e_width = 1.5*scale\n",
    "\n",
    "    Jaiswalmarker = 'o'\n",
    "    Zinkmarker = '^'\n",
    "    Acunamarker = 'P'\n",
    "    Coombsmarker = 'v'\n",
    "    Youngmarker = 'p'\n",
    "    Mckerrelmarker = 'D'\n",
    "    Genovesemarker = 'd'\n",
    "    Desaimarker = '*'\n",
    "\n",
    "    #Colors\n",
    "    DNMT3A_color = 'dodgerblue'\n",
    "    R882_color = c1\n",
    "    neutralcolor = c3\n",
    "    \n",
    "    #Plot\n",
    "    ax1.errorbar(bin_centres, log_hist_for_plot, yerr= errors, fmt = marker_name, ecolor = color, \\\n",
    "             elinewidth = e_width, capsize = c_size, capthick = c_thick, markersize = marker_size, markeredgewidth = m_width, \\\n",
    "             markeredgecolor = color, markerfacecolor = color, label = study_name, zorder=0)\n",
    "    \n",
    "    # Set axis limits\n",
    "    ax1.set_ylim(1, 14)\n",
    "    ax1.set_xlim(-9, 0)\n",
    "    # ax1.set_xlim(-7.6, 0)\n",
    "\n",
    "    # Axis labels\n",
    "    ax1.set_xlabel('variant allele frequency (%)', fontsize = axislabelfont, labelpad = 6*scale, fontweight = 'medium')\n",
    "    ax1.set_ylabel('rescaled density', fontsize = axislabelfont, labelpad = 6*scale, fontweight = 'medium')\n",
    "\n",
    "    x_major_ticks = [np.log(0.0001),np.log(0.0002),np.log(0.0003),np.log(0.0004),np.log(0.0005),np.log(0.0006),np.log(0.0007),np.log(0.0008), np.log(0.0009),\\\n",
    "                     np.log(0.001), np.log(0.002),np.log(0.003),np.log(0.004),np.log(0.005),np.log(0.006),np.log(0.007),np.log(0.008),np.log(0.009), \\\n",
    "                     np.log(0.01),np.log(0.02),np.log(0.03),np.log(0.04),np.log(0.05),np.log(0.06),np.log(0.07),np.log(0.08),np.log(0.09),\\\n",
    "                     np.log(0.1),np.log(0.2),np.log(0.3),np.log(0.4),np.log(0.5),np.log(0.6),np.log(0.7),np.log(0.8),np.log(0.9), np.log(1.0)]\n",
    "    x_major_tick_labels = [\"0.01\",\"\",\"\",\"\",\"\",\"\",\"\",\"\",\"\",\\\n",
    "                           \"0.1\",\"\",\"\",\"\",\"\",\"\",\"\",\"\",\"\",\\\n",
    "                           \"1\",\"\",\"\",\"\",\"\",\"\",\"\",\"\",\"\",\\\n",
    "                           \"10\",\"\",\"\",\"\",\"50\",\"\",\"\",\"\",\"\",\"\"]\n",
    "    ax1.set_xticks(x_major_ticks)\n",
    "    ax1.set_xticklabels(x_major_tick_labels, fontsize = axisfont)\n",
    "    ax1.xaxis.set_tick_params(width=scale, color = grey3, length = 6)\n",
    "\n",
    "    y_major_ticks = [np.log(1), np.log(2), np.log(3), \\\n",
    "                     np.log(4), np.log(5), np.log(6), \\\n",
    "                     np.log(7), np.log(8), np.log(9), \\\n",
    "                     np.log(10), np.log(20), np.log(30),\\\n",
    "                     np.log(40), np.log(50), np.log(60), \\\n",
    "                     np.log(70), np.log(80), np.log(90),\\\n",
    "                     np.log(100), np.log(200), np.log(300), \\\n",
    "                     np.log(400), np.log(500), np.log(600),\\\n",
    "                     np.log(700), np.log(800), np.log(900), \\\n",
    "                     np.log(1000), np.log(2000), np.log(3000),\\\n",
    "                    np.log(4000), np.log(5000), np.log(6000), \\\n",
    "                     np.log(7000), np.log(8000), np.log(9000),\\\n",
    "                    np.log(10000), np.log(20000), np.log(30000), \\\n",
    "                     np.log(40000), np.log(50000), np.log(60000),\\\n",
    "                    np.log(70000), np.log(80000), np.log(90000), \\\n",
    "                     np.log(100000), np.log(200000),np.log(300000),np.log(400000),np.log(500000),np.log(600000),\\\n",
    "                    np.log(700000),np.log(800000),np.log(900000),np.log(1000000),]\n",
    "    y_major_tick_labels = [\"\",\"\",\"\", \"\", \"\", \"\", \"\", \"\", \"\", \"$10^{1}$\",\"\", \"\", \"\", \"\", \"\", \"\", \"\", \"\", \\\n",
    "                           \"$10^{2}$\",\"\", \"\", \"\", \"\", \"\", \"\", \"\", \"\", \"$10^{3}$\",\"\", \"\", \"\", \"\", \"\", \"\", \"\", \"\", \\\n",
    "                           \"$10^{4}$\",\"\", \"\", \"\", \"\", \"\", \"\", \"\", \"\", \"$10^{5}$\",\"\", \"\", \"\", \"\", \"\", \"\", \"\", \"\", \"$10^{6}$\"]\n",
    "    ax1.set_yticks(y_major_ticks)\n",
    "    ax1.set_yticklabels(y_major_tick_labels, fontsize = axisfont)\n",
    "    ax1.yaxis.set_tick_params(width=scale, color = grey3, length = 6)\n",
    "\n",
    "    #Only show the required axis lines\n",
    "    ax1.spines['top'].set_visible(False)\n",
    "    ax1.spines['right'].set_visible(False)\n",
    "\n",
    "    for axis in ['bottom','left']:\n",
    "        ax1.spines[axis].set_linewidth(scale)\n",
    "\n",
    "    for axis in ['bottom','left']:\n",
    "        ax1.spines[axis].set_color(grey3)\n",
    "        \n",
    "    \n",
    "    #set panel legends\n",
    "    legend_marker_size = 8*scale\n",
    "#     legend_elements = [Line2D([0], [0], marker = Coombsmarker, color=grey3, alpha=0.4, markersize = legend_marker_size*1.2, \\\n",
    "#                               lw=0, label='Coombs 2017'),\n",
    "#                       Line2D([0], [0], marker = Youngmarker, color=grey3, alpha=0.4, markersize = legend_marker_size*1.2, \\\n",
    "#                               lw=0, label='Young 2016 & 2019'),\n",
    "#                        Line2D([0], [0], marker = Desaimarker, color=grey3, alpha=0.4, markersize = legend_marker_size*1.5, \\\n",
    "#                               lw=0, label='Desai 2018')]\n",
    "\n",
    "#     ax1.legend(ncol=1, handles=legend_elements, loc='center', bbox_to_anchor=(0.12, 0.12), frameon=0, fontsize = 11*scale)\n",
    "    \n",
    "    return ax1"
   ]
  },
  {
   "cell_type": "markdown",
   "metadata": {},
   "source": [
    "## Generate lists of normalised VAFs & normalised densities for maximum likelihood estimations"
   ]
  },
  {
   "cell_type": "code",
   "execution_count": 17,
   "metadata": {
    "code_folding": [
     0
    ]
   },
   "outputs": [],
   "source": [
    "def lists_norm_VAFs_and_densities(trimmed_VAF_list, study_total, mu, binmethod):\n",
    "    y = []\n",
    "    for i in trimmed_VAF_list:\n",
    "#         print(i)\n",
    "        VAFs = np.log(float(i))\n",
    "        y.append(VAFs)\n",
    "    \n",
    "    binmethod = 'doane'\n",
    "    \n",
    "    normed_value = study_total*2*mu\n",
    "    hist, bins = np.histogram(y, bins=binmethod, range=(min(y),max(y)))\n",
    "    widths = np.diff(bins)\n",
    "    bin_centres = (bins[:-1] + bins[1:])/2\n",
    "    hist = np.array(hist, dtype=float)\n",
    "    normalised_hist = hist/(normed_value*widths)\n",
    "    log_hist_for_plot = np.log(normalised_hist)\n",
    "\n",
    "    errors = error_bars(hist, normed_value, widths)\n",
    "    \n",
    "    VAF_densities=[]\n",
    "    lower_error = []\n",
    "    upper_error = []\n",
    "    for i in errors[0]:\n",
    "        lower_error.append(i)\n",
    "    for i in errors[1]:\n",
    "        upper_error.append(i)\n",
    "    VAF_densities_zip = zip(bin_centres, log_hist_for_plot, lower_error, upper_error)\n",
    "    for a, b, c, d in VAF_densities_zip:\n",
    "        VAF_densities.append((a, b, c, d))\n",
    "        \n",
    "    VAF_densities_without_inf = []    #remove the densities for the VAF bins for which there were no densities\n",
    "    for i in VAF_densities:\n",
    "        if i[1] != -(float('inf')):\n",
    "            VAF_densities_without_inf.append(i)\n",
    "    \n",
    "    return VAF_densities_without_inf"
   ]
  },
  {
   "cell_type": "code",
   "execution_count": 18,
   "metadata": {
    "code_folding": [
     0
    ]
   },
   "outputs": [],
   "source": [
    "def rescaled_cumulative_VAF_densities_list_simulation_SD(trimmed_VAF_list, study_total, mu, lmin, lmax, n_bins):\n",
    "    #for plotting graphs that will not span the full width of the page and so will need larger markers\n",
    "    log_VAFs = []\n",
    "    for i in trimmed_VAF_list:\n",
    "        log_VAFs.append(np.log(float(i)))\n",
    "    \n",
    "        \n",
    "    normed_value = 2*study_total*mu\n",
    "    hist, bins = np.histogram(log_VAFs, bins=np.linspace(lmin, lmax, n_bins))\n",
    "    widths = np.diff(bins)\n",
    "    bin_centres = (bins[:-1] + bins[1:])/2\n",
    "#     hist = np.array(hist, dtype=float)\n",
    "    \n",
    "\n",
    "    hist_without_zero=[]\n",
    "    bin_centres_without_zero=[]\n",
    "    for m in range(len(hist)):\n",
    "        i = hist[m]\n",
    "        if i != 0:\n",
    "            hist_without_zero.append(i)\n",
    "            bin_centres_without_zero.append(bin_centres[m])\n",
    "#     print('hist without zero is', hist_without_zero)\n",
    "    print('bin_centres', len(bin_centres))\n",
    "    print('bin_centres_without_zero', len(bin_centres_without_zero))\n",
    "    width_scalar=widths[0]\n",
    "    normalised_hist = hist/(normed_value*width_scalar)\n",
    "#     print('width_scalar', width_scalar)\n",
    "    log_hist_for_plot = np.log(normalised_hist)\n",
    "#     print('normalised_hist is', normalised_hist)\n",
    "    \n",
    "#     print('hist is of type', type(hist))\n",
    "    errors = error_bars(hist, normed_value, widths)\n",
    "\n",
    "#     list_SD=[]\n",
    "#     for i in list(hist_without_zero):\n",
    "#         list_SD.append(1/math.sqrt(i))\n",
    "#     print('SD:', list_SD)\n",
    "        \n",
    "    VAF_densities=[]\n",
    "    lower_error = []\n",
    "    upper_error = []\n",
    "#     SD = []\n",
    "    for i in errors[0]:\n",
    "        lower_error.append(i)\n",
    "    for i in errors[1]:\n",
    "        upper_error.append(i)\n",
    "#     for i in list_SD:\n",
    "#         SD.append(i)\n",
    "    print('lower error:', lower_error)\n",
    "    print('upper error:', upper_error)\n",
    "    VAF_densities_zip = zip(bin_centres, log_hist_for_plot, lower_error, upper_error, hist)\n",
    "    for a, b, c, d, e in VAF_densities_zip:\n",
    "        VAF_densities.append((a, b, c, d, e))\n",
    "        \n",
    "    \n",
    "        \n",
    "    return VAF_densities\n"
   ]
  },
  {
   "cell_type": "code",
   "execution_count": 19,
   "metadata": {
    "code_folding": [],
    "scrolled": true
   },
   "outputs": [
    {
     "name": "stdout",
     "output_type": "stream",
     "text": [
      "number of individuals for DFE inference 399\n",
      "bin_centres 10\n",
      "bin_centres_without_zero 10\n",
      "lower error: [0.13700814946858042, 0.16340835113817587, 0.17450596283753228, 0.19452778497068834, 0.19796971553855336, 0.26060626468676906, 0.27777877245548055, 0.3406260401632655, 0.3588363417595515, 1.2279471772995159]\n",
      "upper error: [0.12047884751736948, 0.14041883291347812, 0.14853047643427164, 0.16277908665610763, 0.1651798927155621, 0.20653904341649287, 0.21715415063904597, 0.2536146631736358, 0.26352616195522716, 0.5347999967395705]\n",
      "[(-3.751079214184736, 5.030904632524827, 0.13700814946858042, 0.12047884751736948, 61), (-3.4291916316979156, 4.704220402269776, 0.16340835113817587, 0.14041883291347812, 44), (-3.1073040492110957, 4.583592414481162, 0.17450596283753228, 0.14853047643427164, 39), (-2.785416466724276, 4.3857666711512415, 0.19452778497068834, 0.16277908665610763, 32), (-2.463528884237456, 4.354017972836662, 0.19796971553855336, 0.1651798927155621, 31), (-2.141641301750636, 3.8644697475179557, 0.26060626468676906, 0.20653904341649287, 19), (-1.8197537192638156, 3.753244112407731, 0.27777877245548055, 0.21715415063904597, 17), (-1.4978661367769956, 3.4049374181395153, 0.3406260401632655, 0.2536146631736358, 12), (-1.1759785542901757, 3.3179260411498857, 0.3588363417595515, 0.26352616195522716, 11), (-0.8540909718033556, 1.6131779489114604, 1.2279471772995159, 0.5347999967395705, 2)]\n",
      "bin_centres 10\n",
      "bin_centres_without_zero 10\n",
      "lower error: [0.2283120666476366, 0.23978210293487034, 0.2687978542092351, 0.2876820724517808, 0.2687978542092351, 0.4054651081081646, 0.524668141642259, 0.4054651081081646, 0.43626466823813104, 0.6931471805599454]\n",
      "upper error: [0.18575245222884185, 0.19326208729997685, 0.21163944036928672, 0.2231435513142106, 0.21163944036928672, 0.2876820724517808, 0.3423465848483058, 0.2876820724517808, 0.3027332756136074, 0.4054651081081637]\n"
     ]
    }
   ],
   "source": [
    "#Creating lists of the VAFs + VAF density lists (for MLE)   \n",
    "Boltontotal=590\n",
    "\n",
    "# VAF densities lists\n",
    "binmethod = 'doane'\n",
    "lmin_Bolton=np.log(2/100)\n",
    "lmax_Bolton=np.log(50/100)\n",
    "n_bins_Bolton = 11 \n",
    "bin_size_bolton = (lmax_Bolton - lmin_Bolton)/(n_bins_Bolton - 1)\n",
    "\n",
    "print('number of individuals for DFE inference', Boltontotal_panel_c)\n",
    "all468_VAF_densities = lists_norm_VAFs_and_densities(all468_gene_non_syn_data, Boltontotal_panel_c, Bolton_468panel_non_syn_mu, binmethod)\n",
    "all468_VAF_densities_cumulative = rescaled_cumulative_VAF_densities_list_simulation_SD(all468_gene_non_syn_data, Boltontotal_panel_c, Bolton_468panel_non_syn_mu, lmin_Bolton, lmax_Bolton, n_bins_Bolton)\n",
    "\n",
    "all468_densities_without_inf = []    #remove the densities for the VAF bins for which there were no densities\n",
    "for i in all468_VAF_densities:\n",
    "    if i[1] != -(float('inf')):\n",
    "        all468_densities_without_inf.append(i)\n",
    "        \n",
    "all468_densities_without_inf_cumulative = []    #remove the densities for the VAF bins for which there were no densities\n",
    "for i in all468_VAF_densities_cumulative:\n",
    "    if i[1] != -(float('inf')):\n",
    "        all468_densities_without_inf_cumulative.append(i)\n",
    "\n",
    "#         no bins should contain just one datum\n",
    "print(all468_VAF_densities_cumulative)\n",
    "\n",
    "top10CH_VAF_densities = lists_norm_VAFs_and_densities(ten_CH_gene_data, Boltontotal_panel_c, top_10_u, binmethod)\n",
    "top10CH_VAF_densities_cumulative = rescaled_cumulative_VAF_densities_list_simulation_SD(ten_CH_gene_data, Boltontotal_panel_c, top_10_u, lmin_Bolton, lmax_Bolton, n_bins_Bolton)\n",
    "\n",
    "top10CH_densities_without_inf = []    #remove the densities for the VAF bins for which there were no densities\n",
    "for i in top10CH_VAF_densities:\n",
    "    if i[1] != -(float('inf')):\n",
    "        top10CH_densities_without_inf.append(i)\n",
    "        \n",
    "top10CH_densities_without_inf_cumulative = []    #remove the densities for the VAF bins for which there were no densities\n",
    "for i in top10CH_VAF_densities_cumulative:\n",
    "    if i[1] != -(float('inf')):\n",
    "        top10CH_densities_without_inf_cumulative.append(i)"
   ]
  },
  {
   "cell_type": "code",
   "execution_count": 20,
   "metadata": {},
   "outputs": [
    {
     "name": "stdout",
     "output_type": "stream",
     "text": [
      "reading\n",
      "reading\n",
      "reading\n",
      "genes_on_panel_341_genes 341\n",
      "genes_on_panel_410_genes 410\n",
      "genes_on_panel_468_genes 468\n"
     ]
    }
   ],
   "source": [
    "# import panel genes\n",
    "import csv\n",
    "filename2=\"Panel_341_genes.csv\"\n",
    "with open(filename2, 'r') as csvfile2:\n",
    "    read_reader2 = csv.DictReader(csvfile2)\n",
    "    \n",
    "    for row in read_reader2:\n",
    "        print('reading')\n",
    "        \n",
    "#     print(row.keys())\n",
    "    genes_on_panel_341_genes=list(row.keys())\n",
    "\n",
    "filename3=\"Panel_410_genes.csv\"   # contains the additional genes to panel A\n",
    "with open(filename3, 'r') as csvfile3:\n",
    "    read_reader3 = csv.DictReader(csvfile3)\n",
    "    \n",
    "    for row3 in read_reader3:\n",
    "        print('reading')\n",
    "        \n",
    "#     print(row.keys())\n",
    "    genes_on_panel_410_genes=list(row3.keys())\n",
    "    \n",
    "for i in genes_on_panel_341_genes:\n",
    "    genes_on_panel_410_genes.append(i)\n",
    "    \n",
    "filename3=\"Panel_468_genes.csv\"   # contains the additional genes to panel B\n",
    "with open(filename3, 'r') as csvfile3:\n",
    "    read_reader3 = csv.DictReader(csvfile3)\n",
    "    \n",
    "    for row3 in read_reader3:\n",
    "        print('reading')\n",
    "        \n",
    "#     print(row.keys())\n",
    "    genes_on_panel_468_genes=list(row3.keys())\n",
    "    \n",
    "for i in genes_on_panel_410_genes:\n",
    "    genes_on_panel_468_genes.append(i)\n",
    "    \n",
    "print('genes_on_panel_341_genes', len(genes_on_panel_341_genes))\n",
    "print('genes_on_panel_410_genes', len(genes_on_panel_410_genes))\n",
    "print('genes_on_panel_468_genes', len(genes_on_panel_468_genes))"
   ]
  },
  {
   "cell_type": "code",
   "execution_count": 21,
   "metadata": {},
   "outputs": [],
   "source": [
    "common_variants = ['DNMT3A','TET2','ASXL1','JAK2','TP53','SF3B1','KRAS','CBL','SRSF2','IDH2']\n",
    "for common_gene_name in common_variants:\n",
    "    if common_gene_name not in genes_on_panel_468_genes:\n",
    "        print(common_gene_name, 'is not on MSK-IMPACT panel')"
   ]
  },
  {
   "cell_type": "markdown",
   "metadata": {},
   "source": [
    "# Define optimisation functions"
   ]
  },
  {
   "cell_type": "code",
   "execution_count": 22,
   "metadata": {
    "code_folding": [
     0,
     27,
     101,
     130,
     206,
     235
    ]
   },
   "outputs": [],
   "source": [
    "def logProbtheory_actual_ages_nonsyn_delta_exp_power(l, list_of_ages, params): #= predicted density (i.e. normalised by 2 x mu)\n",
    "    \"Natural log of the probability of observing a variant within a specific binwidth if able to sequence perfectly\"\n",
    "    total_density=0.0\n",
    "    s_peak = 0.0\n",
    "    b = params[0]\n",
    "    d = params[1]\n",
    "    s_max = params[2]\n",
    "    ratio_nonneutral = params[3]\n",
    "    \n",
    "    N = 10**5\n",
    "    \n",
    "    weight_s= lambda s: np.exp(-((abs(s-s_peak))/d)**b)\n",
    "#     print(s_max)\n",
    "    normalization=integrate.quad(weight_s, 0.0, s_max)\n",
    "    normalized_rho_s= lambda s: (ratio_nonneutral/normalization[0])*np.exp(-((abs(s-s_peak))/d)**b)\n",
    "    \n",
    "    def rho(s):\n",
    "        result = 0\n",
    "        for t in list_of_ages:\n",
    "            result= result + normalized_rho_s(s)*N/(1-2*np.exp(l))*np.exp(-(2*N*np.exp(l)/(1-2*np.exp(l)))*(s/(np.exp(s*t)-1)))/len(list_of_ages)\n",
    "#             result=(normalized_rho_s(s))*(N/(1-2*np.exp(l))*np.exp(-((np.exp(l))/(((np.exp(s*t)-1)/(2*N*s))*(1-2*np.exp(l))))))*((1/((2*np.pi*(sigma)**2)**0.5))*(np.exp(-(t-mean)**2/(2*(sigma**2)))))\n",
    "        return result\n",
    "\n",
    "    total_density=integrate.quad(rho, 0.0, s_max)\n",
    "\n",
    "    return np.log(total_density[0])\n",
    "\n",
    "def logProbDataGivenModel_actual_ages_nonsyn_delta_exp_power(params, list_of_ages, data): #d = data (number of variants within a given bin), lamb (lambda) = expected number of variants in the bin from theory\n",
    "    \"This returns the natural log likelihood of the entire data, in specified binwidths, for a given theta and phi\"\n",
    "    total_square_distance = 0\n",
    "    for datapoint in data:\n",
    "        if np.exp(datapoint[0])<0.5:\n",
    "            logfreq = datapoint[0]\n",
    "            predicted_log_density = logProbtheory_actual_ages_nonsyn_delta_exp_power(logfreq, list_of_ages, params)\n",
    "            square_distance = ((datapoint[1] - predicted_log_density)**2)\n",
    "            total_square_distance = total_square_distance + square_distance\n",
    "                \n",
    "    return total_square_distance   \n",
    "\n",
    "\n",
    "\n",
    "\n",
    "\n",
    "def logProbtheory_actual_ages_nonsyn_delta_exp_power_log_convex(l, list_of_ages, p, params): #= predicted density (i.e. normalised by 2 x mu)\n",
    "    \"Natural log of the probability of observing a variant within a specific binwidth if able to sequence perfectly\"\n",
    "    total_density=0.0\n",
    "    s_peak = 0.0\n",
    "    b = p\n",
    "    d = params[0]\n",
    "    ratio_nonneutral = params[1]\n",
    "#     s_max = float('inf')\n",
    "    s_max = 1\n",
    "\n",
    "#     print('b', b,'d', d,'s_max', s_max)\n",
    "    N = 10**5\n",
    "    \n",
    "    weight_s= lambda s: np.exp(-((abs(s-s_peak))/d)**b)\n",
    "#     print(s_max)\n",
    "    normalization=integrate.quad(weight_s, 0.0, s_max)\n",
    "    normalized_rho_s= lambda s: (ratio_nonneutral/normalization[0])*np.exp(-((abs(s-s_peak))/d)**b)\n",
    "    \n",
    "    def rho(s):\n",
    "        result = 0\n",
    "        for t in list_of_ages:\n",
    "            result= result + normalized_rho_s(s)*N/(1-2*np.exp(l))*np.exp(-(2*N*np.exp(l)/(1-2*np.exp(l)))*(s/(np.exp(s*t)-1)))/len(list_of_ages)\n",
    "#             result=(normalized_rho_s(s))*(N/(1-2*np.exp(l))*np.exp(-((np.exp(l))/(((np.exp(s*t)-1)/(2*N*s))*(1-2*np.exp(l))))))*((1/((2*np.pi*(sigma)**2)**0.5))*(np.exp(-(t-mean)**2/(2*(sigma**2)))))\n",
    "        return result\n",
    "\n",
    "    total_density=integrate.quad(rho, 0.0, s_max)\n",
    "    \n",
    "    return np.log(total_density[0])\n",
    "\n",
    "def logProbDataGivenModel_actual_ages_nonsyn_delta_exp_power_log_convex(params, list_of_ages, p, data): #d = data (number of variants within a given bin), lamb (lambda) = expected number of variants in the bin from theory\n",
    "    \"This returns the natural log likelihood of the entire data, in specified binwidths, for a given theta and phi\"\n",
    "    total_square_distance = 0\n",
    "    for datapoint in data:\n",
    "        if np.exp(datapoint[0])<0.5:\n",
    "            logfreq = datapoint[0]\n",
    "            predicted_log_density = logProbtheory_actual_ages_nonsyn_delta_exp_power_log_convex(logfreq, list_of_ages,  p, params)\n",
    "            square_distance = ((datapoint[1] - predicted_log_density)**2)\n",
    "            total_square_distance = total_square_distance + square_distance\n",
    "                \n",
    "    return total_square_distance \n",
    "\n",
    "\n",
    "\n",
    "\n",
    "\n",
    "def logProbtheory_actual_ages_nonsyn_delta_exp_power_p_free(l, list_of_ages, params): #= predicted density (i.e. normalised by 2 x mu)\n",
    "    \"Natural log of the probability of observing a variant within a specific binwidth if able to sequence perfectly\"\n",
    "    total_density=0.0\n",
    "    s_peak = 0.0\n",
    "    b = params[0]\n",
    "    d = params[1]\n",
    "    ratio_nonneutral = params[2]\n",
    "    s_max = float('inf')\n",
    "#     s_max = 10\n",
    "\n",
    "#     print('b', b,'d', d,'s_max', s_max)\n",
    "    N = 10**5\n",
    "    \n",
    "    weight_s= lambda s: np.exp(-((abs(s-s_peak))/d)**b)\n",
    "#     print(s_max)\n",
    "    normalization=integrate.quad(weight_s, 0.0, s_max)\n",
    "    normalized_rho_s= lambda s: (ratio_nonneutral/normalization[0])*np.exp(-((abs(s-s_peak))/d)**b)\n",
    "    \n",
    "    def rho(s):\n",
    "        result = 0\n",
    "        for t in list_of_ages:\n",
    "            result= result + normalized_rho_s(s)*N/(1-2*np.exp(l))*np.exp(-(2*N*np.exp(l)/(1-2*np.exp(l)))*(s/(np.exp(s*t)-1)))/len(list_of_ages)\n",
    "#             result=(normalized_rho_s(s))*(N/(1-2*np.exp(l))*np.exp(-((np.exp(l))/(((np.exp(s*t)-1)/(2*N*s))*(1-2*np.exp(l))))))*((1/((2*np.pi*(sigma)**2)**0.5))*(np.exp(-(t-mean)**2/(2*(sigma**2)))))\n",
    "        return result\n",
    "\n",
    "    total_density=integrate.quad(rho, 0.0, s_max)\n",
    "    \n",
    "    return np.log(total_density[0])\n",
    "\n",
    "def logProbDataGivenModel_actual_ages_nonsyn_delta_exp_power_p_free(params, list_of_ages, data): #d = data (number of variants within a given bin), lamb (lambda) = expected number of variants in the bin from theory\n",
    "    \"This returns the natural log likelihood of the entire data, in specified binwidths, for a given theta and phi\"\n",
    "    total_square_distance = 0\n",
    "    for datapoint in data:\n",
    "        if np.exp(datapoint[0])<0.5:\n",
    "            logfreq = datapoint[0]\n",
    "            predicted_log_density = logProbtheory_actual_ages_nonsyn_delta_exp_power_p_free(logfreq, list_of_ages,  params)\n",
    "            square_distance = ((datapoint[1] - predicted_log_density)**2)\n",
    "            total_square_distance = total_square_distance + square_distance\n",
    "                \n",
    "    return total_square_distance \n",
    "\n"
   ]
  },
  {
   "cell_type": "markdown",
   "metadata": {},
   "source": [
    "# Infer fitness landscape from 468 genes"
   ]
  },
  {
   "cell_type": "code",
   "execution_count": 24,
   "metadata": {},
   "outputs": [
    {
     "data": {
      "text/plain": [
       " final_simplex: (array([[-5.11039534e-02,  2.87212351e-07,  1.26827044e-01,\n",
       "         6.13734916e-03],\n",
       "       [-5.11380365e-02,  2.85918239e-07,  1.26827905e-01,\n",
       "         6.13696223e-03],\n",
       "       [-5.11237208e-02,  2.86472816e-07,  1.26826770e-01,\n",
       "         6.13717145e-03],\n",
       "       [-5.10254160e-02,  2.90179594e-07,  1.26827518e-01,\n",
       "         6.13710874e-03],\n",
       "       [-5.10586301e-02,  2.88931588e-07,  1.26826553e-01,\n",
       "         6.13751097e-03]]), array([0.29816179, 0.29816179, 0.2981618 , 0.2981618 , 0.2981618 ]))\n",
       "           fun: 0.29816179402970944\n",
       "       message: 'Optimization terminated successfully.'\n",
       "          nfev: 1059\n",
       "           nit: 636\n",
       "        status: 0\n",
       "       success: True\n",
       "             x: array([-5.11039534e-02,  2.87212351e-07,  1.26827044e-01,  6.13734916e-03])"
      ]
     },
     "execution_count": 24,
     "metadata": {},
     "output_type": "execute_result"
    }
   ],
   "source": [
    "# log concave+delta for neutral mutations and based on actual ages\n",
    "initial_guess=[2.2e-01,6e-06,1.36e-01, 0.5]\n",
    "scipy.optimize.minimize(logProbDataGivenModel_actual_ages_nonsyn_delta_exp_power, initial_guess,\\\n",
    "                        args=(list_of_Bolton_ages_largest_panel, all468_densities_without_inf), method='Nelder-Mead',\\\n",
    "                        options = {'maxiter': 10000, 'maxfev': 10000})   "
   ]
  },
  {
   "cell_type": "code",
   "execution_count": null,
   "metadata": {},
   "outputs": [],
   "source": [
    "# p = 2\n",
    "p = 2 \n",
    "initial_guess=[0.014, 0.5]\n",
    "scipy.optimize.minimize(logProbDataGivenModel_actual_ages_nonsyn_delta_exp_power_log_convex, initial_guess,\\\n",
    "                        args=(list_of_Bolton_ages_largest_panel, p, all468_densities_without_inf),  method='Nelder-mead',\\\n",
    "                        options = {'maxiter': 10000, 'maxfev': 10000})   "
   ]
  },
  {
   "cell_type": "markdown",
   "metadata": {},
   "source": [
    "normal densities\n",
    "based on actual ages from Bolton (log-convex + delta = Bolton_468panel_non_syn_mu) number of bins = 10 , Nelder-mead\n",
    "- p = 2\n",
    "- q = 0.05999922 , \n",
    "- ratio of nonneutral nonsyn. mutations to total nonsyn. mutation =  0.04876069"
   ]
  },
  {
   "cell_type": "code",
   "execution_count": null,
   "metadata": {},
   "outputs": [],
   "source": [
    "# p = 3\n",
    "p = 3 \n",
    "initial_guess=[0.014, 0.5]\n",
    "scipy.optimize.minimize(logProbDataGivenModel_actual_ages_nonsyn_delta_exp_power_log_convex, initial_guess,\\\n",
    "                        args=(list_of_Bolton_ages_largest_panel, p, all468_densities_without_inf),  method='Nelder-mead',\\\n",
    "                        options = {'maxiter': 10000, 'maxfev': 10000})   "
   ]
  },
  {
   "cell_type": "markdown",
   "metadata": {},
   "source": [
    "normal densities\n",
    "based on actual ages from Bolton (log-convex + delta = Bolton_468panel_non_syn_mu) number of bins = 10 , Nelder-mead\n",
    "- p = 3\n",
    "- q = 0.08596145 , \n",
    "- ratio of nonneutral nonsyn. mutations to total nonsyn. mutation =  0.02257153"
   ]
  },
  {
   "cell_type": "code",
   "execution_count": 23,
   "metadata": {},
   "outputs": [
    {
     "name": "stderr",
     "output_type": "stream",
     "text": [
      "C:\\Users\\chickchick\\Anaconda3\\lib\\site-packages\\ipykernel_launcher.py:129: RuntimeWarning: invalid value encountered in log\n"
     ]
    },
    {
     "data": {
      "text/plain": [
       " final_simplex: (array([[0.1001393 , 0.0154429 ],\n",
       "       [0.1001935 , 0.01537225],\n",
       "       [0.10012968, 0.01541604]]), array([0.75537669, 0.75538121, 0.75541437]))\n",
       "           fun: 0.7553766893378933\n",
       "       message: 'Optimization terminated successfully.'\n",
       "          nfev: 133\n",
       "           nit: 72\n",
       "        status: 0\n",
       "       success: True\n",
       "             x: array([0.1001393, 0.0154429])"
      ]
     },
     "execution_count": 23,
     "metadata": {},
     "output_type": "execute_result"
    }
   ],
   "source": [
    "# p = 4\n",
    "p = 4 \n",
    "initial_guess=[0.014, 0.5]\n",
    "scipy.optimize.minimize(logProbDataGivenModel_actual_ages_nonsyn_delta_exp_power_log_convex, initial_guess,\\\n",
    "                        args=(list_of_Bolton_ages_largest_panel, p, all468_densities_without_inf),  method='Nelder-mead',\\\n",
    "                        options = {'maxiter': 10000, 'maxfev': 10000})   "
   ]
  },
  {
   "cell_type": "markdown",
   "metadata": {},
   "source": [
    "normal densities\n",
    "based on actual ages from Bolton (log-convex + delta = Bolton_468panel_non_syn_mu) number of bins = 10 , Nelder-mead\n",
    "- p = 4\n",
    "- q = 0.1001393 , \n",
    "- ratio of nonneutral nonsyn. mutations to total nonsyn. mutation =  0.0154429"
   ]
  },
  {
   "cell_type": "code",
   "execution_count": 29,
   "metadata": {},
   "outputs": [
    {
     "name": "stderr",
     "output_type": "stream",
     "text": [
      "C:\\Users\\chickchick\\Anaconda3\\lib\\site-packages\\ipykernel_launcher.py:6: OptimizeWarning: Unknown solver options: maxfev\n",
      "  \n",
      "C:\\Users\\chickchick\\Anaconda3\\lib\\site-packages\\ipykernel_launcher.py:234: RuntimeWarning: divide by zero encountered in log\n",
      "C:\\Users\\chickchick\\Anaconda3\\lib\\site-packages\\scipy\\optimize\\optimize.py:663: RuntimeWarning: invalid value encountered in double_scalars\n",
      "  grad[k] = (f(*((xk + d,) + args)) - f0) / d[k]\n"
     ]
    },
    {
     "data": {
      "text/plain": [
       "      fun: 0.9579455966766324\n",
       " hess_inv: <3x3 LbfgsInvHessProduct with dtype=float64>\n",
       "      jac: array([  0.97745381, -92.44694046, -49.06563125])\n",
       "  message: b'CONVERGENCE: REL_REDUCTION_OF_F_<=_FACTR*EPSMCH'\n",
       "     nfev: 88\n",
       "      nit: 15\n",
       "   status: 0\n",
       "  success: True\n",
       "        x: array([2.94551663, 0.08456544, 0.02270383])"
      ]
     },
     "execution_count": 29,
     "metadata": {},
     "output_type": "execute_result"
    }
   ],
   "source": [
    "# p is free parameter and based on actual ages\n",
    "# test L-BFGS-B, TNC (TNC always fails) and SLSQP which is better\n",
    "initial_guess=[1,0.06, 0.01]\n",
    "scipy.optimize.minimize(logProbDataGivenModel_actual_ages_nonsyn_delta_exp_power_p_free, initial_guess,\\\n",
    "                        args=(list_of_Bolton_ages_largest_panel, all468_densities_without_inf), method='L-BFGS-B', bounds = ((0,3),(0,None), (0,1)),\\\n",
    "                        options = {'maxiter': 10000, 'maxfev': 10000})    "
   ]
  },
  {
   "cell_type": "markdown",
   "metadata": {},
   "source": [
    "normal densities\n",
    "based on actual ages from Bolton (log-convex + delta = Bolton_468panel_non_syn_mu) number of bins = 10 , Nelder-mead\n",
    "- p = 2.94551663\n",
    "- q = 0.08456544 \n",
    "- ratio of nonneutral nonsyn. mutations to total nonsyn. mutation =  0.02270383"
   ]
  },
  {
   "cell_type": "markdown",
   "metadata": {},
   "source": [
    "## Plot DFE and best-fit nonsynonymous VAF spectra"
   ]
  },
  {
   "cell_type": "markdown",
   "metadata": {},
   "source": [
    "### expo power + delta + p is free "
   ]
  },
  {
   "cell_type": "code",
   "execution_count": 25,
   "metadata": {},
   "outputs": [],
   "source": [
    "p_free_inferred_params = [2.94551663, 0.08456544, 0.02270383]"
   ]
  },
  {
   "cell_type": "code",
   "execution_count": 40,
   "metadata": {
    "code_folding": [],
    "scrolled": false
   },
   "outputs": [
    {
     "data": {
      "image/png": "[encoded data removed]",
      "text/plain": [
       "<Figure size 691.2x691.2 with 1 Axes>"
      ]
     },
     "metadata": {
      "needs_background": "light"
     },
     "output_type": "display_data"
    }
   ],
   "source": [
    "#Plotting the histogram\n",
    "plt.close('all')\n",
    "scale = 1.2\n",
    "f, (ax1) = plt.subplots(1, 1, sharey=True, figsize=(8*scale, 8*scale))\n",
    "\n",
    "m_size = 14\n",
    "Boltonmarkersize = m_size*1.5\n",
    "\n",
    "line_width = 6\n",
    "a = 0.75\n",
    "\n",
    "all468color = 'maroon'\n",
    "Boltonmarker = 'D'\n",
    "\n",
    "\n",
    "plot_log_hist_data_for_plot_solid_smaller(all468_gene_non_syn_data, Boltontotal_panel_c, Bolton_468panel_non_syn_mu, n_bins_Bolton, \\\n",
    "                            'Bolton', Boltonmarker, Boltonmarkersize, all468color)\n",
    "\n",
    "\n",
    "\n",
    "x=np.linspace(-10, np.log(0.49999999), 100)\n",
    "# fitted_VAF_p_free=[logProbtheory_actual_ages_nonsyn_delta_exp_power_p_free(l, list_of_Bolton_ages_largest_panel, p_free_inferred_params) for l in x]\n",
    "ax1.plot(x, fitted_VAF_p_free, c = 'maroon', lw = line_width, alpha = 1, zorder = 0)\n",
    "\n",
    "# plt.savefig('Reed_model_Fitted_VAF_p_free_all468genes.pdf', bbox_inches='tight')\n",
    "plt.show()"
   ]
  },
  {
   "cell_type": "code",
   "execution_count": 48,
   "metadata": {
    "code_folding": []
   },
   "outputs": [
    {
     "name": "stdout",
     "output_type": "stream",
     "text": [
      "low_fitness_fraction 0.5157597238907968 moderate_fitness_fraction 0.4429651317014926 high_fitness_fraction 0.04127514438110551\n"
     ]
    },
    {
     "data": {
      "image/png": "[encoded data removed]",
      "text/plain": [
       "<Figure size 691.2x691.2 with 1 Axes>"
      ]
     },
     "metadata": {
      "needs_background": "light"
     },
     "output_type": "display_data"
    }
   ],
   "source": [
    "# plot DFE\n",
    "plt.close('all')\n",
    "scale = 1.2\n",
    "f, (ax1) = plt.subplots(1, 1, sharey=True, figsize=(8*scale, 8*scale))\n",
    "\n",
    "\n",
    "s_vector = np.linspace(0, 0.2, 100)\n",
    "\n",
    "# log convex\n",
    "p = p_free_inferred_params[0]\n",
    "q = p_free_inferred_params[2]\n",
    "weight_s= lambda s: np.exp(-((abs(s))/q)**p)\n",
    "normalization=integrate.quad(weight_s, 0.0, float(\"inf\"))[0]\n",
    "\n",
    "def DFE(s, params):\n",
    "    p = params[0]\n",
    "    q = params[1]\n",
    "    sigma = params[2]\n",
    "    \n",
    "    density = Bolton_468panel_non_syn_mu*sigma*np.exp(-(s/q)**p)/normalization\n",
    "    \n",
    "    return density\n",
    "\n",
    "all_fitness_fraction = integrate.quad(lambda s: DFE(s, p_free_inferred_params), 0, float('inf'))[0]\n",
    "low_fitness_fraction = integrate.quad(lambda s: DFE(s, p_free_inferred_params), 0, 0.04)[0]\n",
    "moderate_fitness_fraction = integrate.quad(lambda s: DFE(s, p_free_inferred_params), 0.04, 0.1)[0]\n",
    "high_fitness_fraction = integrate.quad(lambda s: DFE(s, p_free_inferred_params), 0.1, float('inf'))[0]\n",
    "print('low_fitness_fraction', low_fitness_fraction/all_fitness_fraction,\\\n",
    "      'moderate_fitness_fraction', moderate_fitness_fraction/all_fitness_fraction,\\\n",
    "      'high_fitness_fraction', high_fitness_fraction/all_fitness_fraction)\n",
    "\n",
    "DFE_vector = [np.log(DFE(s,p_free_inferred_params)) for s in s_vector]\n",
    "\n",
    "ax1.plot(s_vector, DFE_vector, c = green3, lw = line_width, alpha = 1, zorder = 0)\n",
    "\n",
    "ax1.set_xlim(0,0.2)\n",
    "ax1.set_ylim(np.log(10**-6.5), np.log(10**-2))\n",
    "ax1.set_xlabel('fitness (%)', fontsize = axislabelfont*1.35, labelpad = 12*scale, fontweight = 'medium')\n",
    "ax1.set_ylabel('haploid mutation rate (per year)', fontsize = axislabelfont*1.35, labelpad = 12*scale, fontweight = 'medium')\n",
    "\n",
    "x_major_ticks = [0, 0.02,0.04,0.06,0.08, 0.1,0.12,0.14, 0.16,0.18, 0.2]\n",
    "x_major_tick_labels = [\"0\",\"2\",\"4\",\"6\",\"8\",\"10\",\"12\",\"14\",\"16\", \"18\",\"20\"]\n",
    "ax1.set_xticks(x_major_ticks)\n",
    "ax1.set_xticklabels(x_major_tick_labels, fontsize = 14*1.2)\n",
    "ax1.xaxis.set_tick_params(width=scale, color = grey3, length = 6)\n",
    "\n",
    "y_major_ticks = [np.log(0.000001), np.log(0.00001),np.log(0.0001), np.log(0.001), np.log(0.01)]\n",
    "y_major_tick_labels = [\"$10^{-6}$\", \"$10^{-5}$\", \"$10^{-4}$\",\"$10^{-3}$\", \"$10^{-2}$\"]\n",
    "ax1.set_yticks(y_major_ticks)\n",
    "ax1.set_yticklabels(y_major_tick_labels, fontsize = 14*1.2)\n",
    "ax1.yaxis.set_tick_params(width=scale, color = grey3, length = 6)\n",
    "\n",
    "#Only show the required axis lines\n",
    "ax1.spines['top'].set_visible(False)\n",
    "ax1.spines['right'].set_visible(False)\n",
    "\n",
    "for axis in ['bottom','left']:\n",
    "    ax1.spines[axis].set_linewidth(scale)\n",
    "\n",
    "for axis in ['bottom','left']:\n",
    "    ax1.spines[axis].set_color(grey3)\n",
    "        \n",
    "# plt.savefig('Reed_model_DFE_p_free_all468genes.pdf', bbox_inches='tight')"
   ]
  },
  {
   "cell_type": "markdown",
   "metadata": {},
   "source": [
    "### expo power + delta + p=2,3"
   ]
  },
  {
   "cell_type": "code",
   "execution_count": 24,
   "metadata": {},
   "outputs": [],
   "source": [
    "p_2_fixed_params = [0.05999922, 0.04876069]\n",
    "\n",
    "p_3_fixed_params = [0.08596145, 0.02257153]\n",
    "\n",
    "p_4_fixed_params = [0.1001393, 0.0154429]\n"
   ]
  },
  {
   "cell_type": "code",
   "execution_count": 31,
   "metadata": {
    "code_folding": [
     0
    ],
    "scrolled": false
   },
   "outputs": [
    {
     "data": {
      "image/png": "[encoded data removed]",
      "text/plain": [
       "<Figure size 691.2x691.2 with 1 Axes>"
      ]
     },
     "metadata": {
      "needs_background": "light"
     },
     "output_type": "display_data"
    }
   ],
   "source": [
    "# best-fit nonsynonymous VAF\n",
    "plt.close('all')\n",
    "scale = 1.2\n",
    "f, (ax1) = plt.subplots(1, 1, sharey=True, figsize=(8*scale, 8*scale))\n",
    "\n",
    "m_size = 14\n",
    "Boltonmarkersize = m_size*1.5\n",
    "\n",
    "line_width = 6\n",
    "a = 0.75\n",
    "\n",
    "all468color = 'maroon'\n",
    "Boltonmarker = 'D'\n",
    "\n",
    "\n",
    "p2 = 2\n",
    "p3 = 3\n",
    "\n",
    "plot_log_hist_data_for_plot_solid_larger(all468_gene_non_syn_data, Boltontotal_panel_c, Bolton_468panel_non_syn_mu, n_bins_Bolton, \\\n",
    "                            'Bolton', Boltonmarker, Boltonmarkersize, all468color, 3.5)\n",
    "\n",
    "\n",
    "\n",
    "x=np.linspace(-10, np.log(0.4999999999), 100)\n",
    "# fitted_VAF_p_2_fixed=[logProbtheory_actual_ages_nonsyn_delta_exp_power_log_convex(l, list_of_Bolton_ages_largest_panel, p2, p_2_fixed_params) for l in x]\n",
    "# ax1.plot(x, fitted_VAF_p_2_fixed, c = 'maroon', lw = line_width, alpha = 1, zorder = 0)\n",
    "\n",
    "fitted_VAF_p_3_fixed=[logProbtheory_actual_ages_nonsyn_delta_exp_power_log_convex(l, list_of_Bolton_ages_largest_panel, p3, p_3_fixed_params) for l in x]\n",
    "ax1.plot(x, fitted_VAF_p_3_fixed, c = 'maroon', lw = line_width, alpha = 1, zorder = 0)\n",
    "\n",
    "# plt.savefig('Reed_model_Fitted_VAF_p_2_all468genes.pdf', bbox_inches='tight')\n",
    "# plt.savefig('Reed_model_Fitted_VAF_p_3_all468genes.pdf', bbox_inches='tight')\n",
    "plt.show()"
   ]
  },
  {
   "cell_type": "code",
   "execution_count": 33,
   "metadata": {
    "code_folding": [
     0
    ]
   },
   "outputs": [
    {
     "name": "stdout",
     "output_type": "stream",
     "text": [
      "low_fitness_fraction 0.508335837884278 moderate_fitness_fraction 0.4478753368602477 high_fitness_fraction 0.04378882525557829\n"
     ]
    },
    {
     "data": {
      "image/png": "[encoded data removed]",
      "text/plain": [
       "<Figure size 691.2x691.2 with 1 Axes>"
      ]
     },
     "metadata": {
      "needs_background": "light"
     },
     "output_type": "display_data"
    }
   ],
   "source": [
    "# plot DFE\n",
    "plt.close('all')\n",
    "scale = 1.2\n",
    "f, (ax1) = plt.subplots(1, 1, sharey=True, figsize=(8*scale, 8*scale))\n",
    "\n",
    "p_fixed_params= p_3_fixed_params\n",
    "p = 3\n",
    "\n",
    "s_vector = np.linspace(0, 0.2, 100)\n",
    "\n",
    "# log convex\n",
    "\n",
    "q = p_fixed_params[0]\n",
    "weight_s= lambda s: np.exp(-((abs(s))/q)**p)\n",
    "normalization=integrate.quad(weight_s, 0.0, float(\"inf\"))[0]\n",
    "\n",
    "def DFE(s, params, p):\n",
    "#     p = params[0]\n",
    "    q = params[0]\n",
    "    sigma = params[1]\n",
    "    \n",
    "    density = Bolton_468panel_non_syn_mu*sigma*np.exp(-(s/q)**p)/normalization\n",
    "    \n",
    "    return density\n",
    "\n",
    "all_fitness_fraction = integrate.quad(lambda s: DFE(s, p_fixed_params, p), 0, float('inf'))[0]\n",
    "low_fitness_fraction = integrate.quad(lambda s: DFE(s, p_fixed_params, p), 0, 0.04)[0]\n",
    "moderate_fitness_fraction = integrate.quad(lambda s: DFE(s, p_fixed_params, p), 0.04, 0.1)[0]\n",
    "high_fitness_fraction = integrate.quad(lambda s: DFE(s, p_fixed_params, p), 0.1, float('inf'))[0]\n",
    "print('low_fitness_fraction', low_fitness_fraction/all_fitness_fraction,\\\n",
    "      'moderate_fitness_fraction', moderate_fitness_fraction/all_fitness_fraction,\\\n",
    "      'high_fitness_fraction', high_fitness_fraction/all_fitness_fraction)\n",
    "\n",
    "DFE_vector = [np.log(DFE(s, p_fixed_params, p)) for s in s_vector]\n",
    "\n",
    "ax1.plot(s_vector, DFE_vector, c = green3, lw = line_width, alpha = 1, zorder = 0)\n",
    "\n",
    "ax1.set_xlim(0,0.2)\n",
    "ax1.set_ylim(np.log(10**-6.5), np.log(10**-2))\n",
    "ax1.set_xlabel('fitness (%)', fontsize = axislabelfont*1.5, labelpad = 12*scale, fontweight = 'medium')\n",
    "ax1.set_ylabel('haploid mutation rate (per year)', fontsize = axislabelfont*1.5, labelpad = 12*scale, fontweight = 'medium')\n",
    "\n",
    "x_major_ticks = [0, 0.02,0.04,0.06,0.08, 0.1,0.12,0.14, 0.16,0.18, 0.2]\n",
    "x_major_tick_labels = [\"0\",\"2\",\"4\",\"6\",\"8\",\"10\",\"12\",\"14\",\"16\", \"18\",\"20\"]\n",
    "ax1.set_xticks(x_major_ticks)\n",
    "ax1.set_xticklabels(x_major_tick_labels, fontsize = 20)\n",
    "ax1.xaxis.set_tick_params(width=scale, color = grey3, length = 6)\n",
    "\n",
    "y_major_ticks = [np.log(0.000001), np.log(0.00001),np.log(0.0001), np.log(0.001), np.log(0.01)]\n",
    "y_major_tick_labels = [\"$10^{-6}$\", \"$10^{-5}$\", \"$10^{-4}$\",\"$10^{-3}$\", \"$10^{-2}$\"]\n",
    "ax1.set_yticks(y_major_ticks)\n",
    "ax1.set_yticklabels(y_major_tick_labels, fontsize = 20)\n",
    "ax1.yaxis.set_tick_params(width=scale, color = grey3, length = 6)\n",
    "\n",
    "#Only show the required axis lines\n",
    "ax1.spines['top'].set_visible(False)\n",
    "ax1.spines['right'].set_visible(False)\n",
    "\n",
    "for axis in ['bottom','left']:\n",
    "    ax1.spines[axis].set_linewidth(scale)\n",
    "\n",
    "for axis in ['bottom','left']:\n",
    "    ax1.spines[axis].set_color(grey3)\n",
    "        \n",
    "# plt.savefig('Reed_model_DFE_p_3_all468genes.pdf', bbox_inches='tight')"
   ]
  },
  {
   "cell_type": "code",
   "execution_count": 32,
   "metadata": {
    "code_folding": [
     0
    ],
    "scrolled": false
   },
   "outputs": [
    {
     "data": {
      "image/png": "[encoded data removed]",
      "text/plain": [
       "<Figure size 691.2x691.2 with 1 Axes>"
      ]
     },
     "metadata": {
      "needs_background": "light"
     },
     "output_type": "display_data"
    }
   ],
   "source": [
    "# best-fit nonsynonymous VAF\n",
    "plt.close('all')\n",
    "scale = 1.2\n",
    "f, (ax1) = plt.subplots(1, 1, sharey=True, figsize=(8*scale, 8*scale))\n",
    "\n",
    "m_size = 14\n",
    "Boltonmarkersize = m_size*1.5\n",
    "\n",
    "line_width = 6\n",
    "a = 0.75\n",
    "\n",
    "all468color = 'maroon'\n",
    "Boltonmarker = 'D'\n",
    "\n",
    "\n",
    "p2 = 2\n",
    "p3 = 3\n",
    "\n",
    "plot_log_hist_data_for_plot_solid_larger(all468_gene_non_syn_data, Boltontotal_panel_c, Bolton_468panel_non_syn_mu, n_bins_Bolton, \\\n",
    "                            'Bolton', Boltonmarker, Boltonmarkersize, all468color, 3.5)\n",
    "\n",
    "\n",
    "\n",
    "x=np.linspace(-10, np.log(0.4999999999), 100)\n",
    "fitted_VAF_p_2_fixed=[logProbtheory_actual_ages_nonsyn_delta_exp_power_log_convex(l, list_of_Bolton_ages_largest_panel, p2, p_2_fixed_params) for l in x]\n",
    "ax1.plot(x, fitted_VAF_p_2_fixed, c = 'maroon', lw = line_width, alpha = 1, zorder = 0)\n",
    "\n",
    "# fitted_VAF_p_3_fixed=[logProbtheory_actual_ages_nonsyn_delta_exp_power_log_convex(l, list_of_Bolton_ages_largest_panel, p3, p_3_fixed_params) for l in x]\n",
    "# ax1.plot(x, fitted_VAF_p_3_fixed, c = 'maroon', lw = line_width, alpha = 1, zorder = 0)\n",
    "\n",
    "# plt.savefig('Reed_model_Fitted_VAF_p_2_all468genes.pdf', bbox_inches='tight')\n",
    "# plt.savefig('Reed_model_Fitted_VAF_p_3_all468genes.pdf', bbox_inches='tight')\n",
    "plt.show()"
   ]
  },
  {
   "cell_type": "code",
   "execution_count": 34,
   "metadata": {
    "code_folding": [
     0
    ]
   },
   "outputs": [
    {
     "name": "stdout",
     "output_type": "stream",
     "text": [
      "low_fitness_fraction 0.654227684180595 moderate_fitness_fraction 0.3273517104352199 high_fitness_fraction 0.018420605383519025\n"
     ]
    },
    {
     "data": {
      "image/png": "[encoded data removed]",
      "text/plain": [
       "<Figure size 691.2x691.2 with 1 Axes>"
      ]
     },
     "metadata": {
      "needs_background": "light"
     },
     "output_type": "display_data"
    }
   ],
   "source": [
    "# plot DFE\n",
    "plt.close('all')\n",
    "scale = 1.2\n",
    "f, (ax1) = plt.subplots(1, 1, sharey=True, figsize=(8*scale, 8*scale))\n",
    "\n",
    "p_fixed_params= p_2_fixed_params\n",
    "p = 2\n",
    "\n",
    "s_vector = np.linspace(0, 0.2, 100)\n",
    "\n",
    "# log convex\n",
    "\n",
    "q = p_fixed_params[0]\n",
    "weight_s= lambda s: np.exp(-((abs(s))/q)**p)\n",
    "normalization=integrate.quad(weight_s, 0.0, float(\"inf\"))[0]\n",
    "\n",
    "def DFE(s, params, p):\n",
    "#     p = params[0]\n",
    "    q = params[0]\n",
    "    sigma = params[1]\n",
    "    \n",
    "    density = Bolton_468panel_non_syn_mu*sigma*np.exp(-(s/q)**p)/normalization\n",
    "    \n",
    "    return density\n",
    "\n",
    "all_fitness_fraction = integrate.quad(lambda s: DFE(s, p_fixed_params, p), 0, float('inf'))[0]\n",
    "low_fitness_fraction = integrate.quad(lambda s: DFE(s, p_fixed_params, p), 0, 0.04)[0]\n",
    "moderate_fitness_fraction = integrate.quad(lambda s: DFE(s, p_fixed_params, p), 0.04, 0.1)[0]\n",
    "high_fitness_fraction = integrate.quad(lambda s: DFE(s, p_fixed_params, p), 0.1, float('inf'))[0]\n",
    "print('low_fitness_fraction', low_fitness_fraction/all_fitness_fraction,\\\n",
    "      'moderate_fitness_fraction', moderate_fitness_fraction/all_fitness_fraction,\\\n",
    "      'high_fitness_fraction', high_fitness_fraction/all_fitness_fraction)\n",
    "\n",
    "DFE_vector = [np.log(DFE(s, p_fixed_params, p)) for s in s_vector]\n",
    "\n",
    "ax1.plot(s_vector, DFE_vector, c = green3, lw = line_width, alpha = 1, zorder = 0)\n",
    "\n",
    "ax1.set_xlim(0,0.2)\n",
    "ax1.set_ylim(np.log(10**-6.5), np.log(10**-2))\n",
    "ax1.set_xlabel('fitness (%)', fontsize = axislabelfont*1.5, labelpad = 12*scale, fontweight = 'medium')\n",
    "ax1.set_ylabel('haploid mutation rate (per year)', fontsize = axislabelfont*1.5, labelpad = 12*scale, fontweight = 'medium')\n",
    "\n",
    "x_major_ticks = [0, 0.02,0.04,0.06,0.08, 0.1,0.12,0.14, 0.16,0.18, 0.2]\n",
    "x_major_tick_labels = [\"0\",\"2\",\"4\",\"6\",\"8\",\"10\",\"12\",\"14\",\"16\", \"18\",\"20\"]\n",
    "ax1.set_xticks(x_major_ticks)\n",
    "ax1.set_xticklabels(x_major_tick_labels, fontsize = 20)\n",
    "ax1.xaxis.set_tick_params(width=scale, color = grey3, length = 6)\n",
    "\n",
    "y_major_ticks = [np.log(0.000001), np.log(0.00001),np.log(0.0001), np.log(0.001), np.log(0.01)]\n",
    "y_major_tick_labels = [\"$10^{-6}$\", \"$10^{-5}$\", \"$10^{-4}$\",\"$10^{-3}$\", \"$10^{-2}$\"]\n",
    "ax1.set_yticks(y_major_ticks)\n",
    "ax1.set_yticklabels(y_major_tick_labels, fontsize = 20)\n",
    "ax1.yaxis.set_tick_params(width=scale, color = grey3, length = 6)\n",
    "\n",
    "#Only show the required axis lines\n",
    "ax1.spines['top'].set_visible(False)\n",
    "ax1.spines['right'].set_visible(False)\n",
    "\n",
    "for axis in ['bottom','left']:\n",
    "    ax1.spines[axis].set_linewidth(scale)\n",
    "\n",
    "for axis in ['bottom','left']:\n",
    "    ax1.spines[axis].set_color(grey3)\n",
    "        \n",
    "# plt.savefig('Reed_model_DFE_p_2_all468genes.pdf', bbox_inches='tight')"
   ]
  },
  {
   "cell_type": "code",
   "execution_count": 27,
   "metadata": {
    "code_folding": [],
    "scrolled": false
   },
   "outputs": [
    {
     "data": {
      "image/png": "[encoded data removed]",
      "text/plain": [
       "<Figure size 691.2x691.2 with 1 Axes>"
      ]
     },
     "metadata": {
      "needs_background": "light"
     },
     "output_type": "display_data"
    }
   ],
   "source": [
    "# best-fit nonsynonymous VAF\n",
    "plt.close('all')\n",
    "scale = 1.2\n",
    "f, (ax1) = plt.subplots(1, 1, sharey=True, figsize=(8*scale, 8*scale))\n",
    "\n",
    "m_size = 14\n",
    "Boltonmarkersize = m_size*1.5\n",
    "\n",
    "line_width = 6\n",
    "a = 0.75\n",
    "\n",
    "all468color = 'maroon'\n",
    "Boltonmarker = 'D'\n",
    "\n",
    "\n",
    "p2 = 2\n",
    "p3 = 3\n",
    "p4 = 4\n",
    "\n",
    "plot_log_hist_data_for_plot_solid_larger(all468_gene_non_syn_data, Boltontotal_panel_c, Bolton_468panel_non_syn_mu, n_bins_Bolton, \\\n",
    "                            'Bolton', Boltonmarker, Boltonmarkersize, all468color, 3.5)\n",
    "\n",
    "\n",
    "\n",
    "x=np.linspace(-10, np.log(0.4999999999), 100)\n",
    "# fitted_VAF_p_2_fixed=[logProbtheory_actual_ages_nonsyn_delta_exp_power_log_convex(l, list_of_Bolton_ages_largest_panel, p2, p_2_fixed_params) for l in x]\n",
    "# ax1.plot(x, fitted_VAF_p_2_fixed, c = 'maroon', lw = line_width, alpha = 1, zorder = 0)\n",
    "\n",
    "# fitted_VAF_p_3_fixed=[logProbtheory_actual_ages_nonsyn_delta_exp_power_log_convex(l, list_of_Bolton_ages_largest_panel, p3, p_3_fixed_params) for l in x]\n",
    "# ax1.plot(x, fitted_VAF_p_3_fixed, c = 'maroon', lw = line_width, alpha = 1, zorder = 0)\n",
    "\n",
    "fitted_VAF_p_4_fixed=[logProbtheory_actual_ages_nonsyn_delta_exp_power_log_convex(l, list_of_Bolton_ages_largest_panel, p4, p_4_fixed_params) for l in x]\n",
    "ax1.plot(x, fitted_VAF_p_4_fixed, c = 'maroon', lw = line_width, alpha = 1, zorder = 0)\n",
    "\n",
    "\n",
    "# plt.savefig('Reed_model_Fitted_VAF_p_4_all468genes.pdf', bbox_inches='tight')\n",
    "plt.show()"
   ]
  },
  {
   "cell_type": "code",
   "execution_count": 26,
   "metadata": {
    "code_folding": []
   },
   "outputs": [
    {
     "name": "stdout",
     "output_type": "stream",
     "text": [
      "low_fitness_fraction 0.43846314216437793 moderate_fitness_fraction 0.49304956718532755 high_fitness_fraction 0.06848729064294931\n"
     ]
    },
    {
     "data": {
      "image/png": "[encoded data removed]",
      "text/plain": [
       "<Figure size 691.2x691.2 with 1 Axes>"
      ]
     },
     "metadata": {
      "needs_background": "light"
     },
     "output_type": "display_data"
    }
   ],
   "source": [
    "# plot DFE\n",
    "plt.close('all')\n",
    "scale = 1.2\n",
    "f, (ax1) = plt.subplots(1, 1, sharey=True, figsize=(8*scale, 8*scale))\n",
    "\n",
    "p_fixed_params= p_4_fixed_params\n",
    "p = 4\n",
    "\n",
    "s_vector = np.linspace(0, 0.2, 100)\n",
    "\n",
    "line_width = 6\n",
    "\n",
    "# log convex\n",
    "\n",
    "q = p_fixed_params[0]\n",
    "weight_s= lambda s: np.exp(-((abs(s))/q)**p)\n",
    "normalization=integrate.quad(weight_s, 0.0, float(\"inf\"))[0]\n",
    "\n",
    "def DFE(s, params, p):\n",
    "#     p = params[0]\n",
    "    q = params[0]\n",
    "    sigma = params[1]\n",
    "    \n",
    "    density = Bolton_468panel_non_syn_mu*sigma*np.exp(-(s/q)**p)/normalization\n",
    "    \n",
    "    return density\n",
    "\n",
    "all_fitness_fraction = integrate.quad(lambda s: DFE(s, p_fixed_params, p), 0, float('inf'))[0]\n",
    "low_fitness_fraction = integrate.quad(lambda s: DFE(s, p_fixed_params, p), 0, 0.04)[0]\n",
    "moderate_fitness_fraction = integrate.quad(lambda s: DFE(s, p_fixed_params, p), 0.04, 0.1)[0]\n",
    "high_fitness_fraction = integrate.quad(lambda s: DFE(s, p_fixed_params, p), 0.1, float('inf'))[0]\n",
    "print('low_fitness_fraction', low_fitness_fraction/all_fitness_fraction,\\\n",
    "      'moderate_fitness_fraction', moderate_fitness_fraction/all_fitness_fraction,\\\n",
    "      'high_fitness_fraction', high_fitness_fraction/all_fitness_fraction)\n",
    "\n",
    "DFE_vector = [np.log(DFE(s, p_fixed_params, p)) for s in s_vector]\n",
    "\n",
    "ax1.plot(s_vector, DFE_vector, c = green3, lw = line_width, alpha = 1, zorder = 0)\n",
    "\n",
    "ax1.set_xlim(0,0.2)\n",
    "ax1.set_ylim(np.log(10**-6.5), np.log(10**-2))\n",
    "ax1.set_xlabel('fitness (%)', fontsize = axislabelfont*1.5, labelpad = 12*scale, fontweight = 'medium')\n",
    "ax1.set_ylabel('haploid mutation rate (per year)', fontsize = axislabelfont*1.5, labelpad = 12*scale, fontweight = 'medium')\n",
    "\n",
    "x_major_ticks = [0, 0.02,0.04,0.06,0.08, 0.1,0.12,0.14, 0.16,0.18, 0.2]\n",
    "x_major_tick_labels = [\"0\",\"2\",\"4\",\"6\",\"8\",\"10\",\"12\",\"14\",\"16\", \"18\",\"20\"]\n",
    "ax1.set_xticks(x_major_ticks)\n",
    "ax1.set_xticklabels(x_major_tick_labels, fontsize = 20)\n",
    "ax1.xaxis.set_tick_params(width=scale, color = grey3, length = 6)\n",
    "\n",
    "y_major_ticks = [np.log(0.000001), np.log(0.00001),np.log(0.0001), np.log(0.001), np.log(0.01)]\n",
    "y_major_tick_labels = [\"$10^{-6}$\", \"$10^{-5}$\", \"$10^{-4}$\",\"$10^{-3}$\", \"$10^{-2}$\"]\n",
    "ax1.set_yticks(y_major_ticks)\n",
    "ax1.set_yticklabels(y_major_tick_labels, fontsize = 20)\n",
    "ax1.yaxis.set_tick_params(width=scale, color = grey3, length = 6)\n",
    "\n",
    "#Only show the required axis lines\n",
    "ax1.spines['top'].set_visible(False)\n",
    "ax1.spines['right'].set_visible(False)\n",
    "\n",
    "for axis in ['bottom','left']:\n",
    "    ax1.spines[axis].set_linewidth(scale)\n",
    "\n",
    "for axis in ['bottom','left']:\n",
    "    ax1.spines[axis].set_color(grey3)\n",
    "        \n",
    "# plt.savefig('Reed_model_DFE_p_4_all468genes.pdf', bbox_inches='tight')"
   ]
  }
 ],
 "metadata": {
  "kernelspec": {
   "display_name": "Python 3",
   "language": "python",
   "name": "python3"
  },
  "language_info": {
   "codemirror_mode": {
    "name": "ipython",
    "version": 3
   },
   "file_extension": ".py",
   "mimetype": "text/x-python",
   "name": "python",
   "nbconvert_exporter": "python",
   "pygments_lexer": "ipython3",
   "version": "3.7.1"
  },
  "toc": {
   "base_numbering": 1,
   "nav_menu": {},
   "number_sections": true,
   "sideBar": true,
   "skip_h1_title": false,
   "title_cell": "Table of Contents",
   "title_sidebar": "Contents",
   "toc_cell": true,
   "toc_position": {},
   "toc_section_display": true,
   "toc_window_display": true
  }
 },
 "nbformat": 4,
 "nbformat_minor": 2
}
